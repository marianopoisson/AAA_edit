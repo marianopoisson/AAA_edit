{
 "cells": [
  {
   "cell_type": "code",
   "execution_count": 7,
   "id": "224bdac0-71c2-46b4-af35-581db4f2ae34",
   "metadata": {},
   "outputs": [],
   "source": [
    "import checkBAAA\n",
    "import glob\n",
    "\n",
    "import sys\n"
   ]
  },
  {
   "cell_type": "code",
   "execution_count": 8,
   "id": "c9daf8a1-fd1a-4f2d-95f3-fedbcb7e3187",
   "metadata": {},
   "outputs": [],
   "source": [
    "old_stdout = sys.stdout\n",
    "\n",
    "log_file = open(\"message.log\",\"w\")\n",
    "\n",
    "sys.stdout = log_file\n",
    "\n",
    "%run checkBAAA ./test/articulo-baaa65.tex\n",
    "\n",
    "sys.stdout = old_stdout\n",
    "\n",
    "log_file.close()"
   ]
  },
  {
   "cell_type": "code",
   "execution_count": 2,
   "id": "b6a7c08c-dc5d-4f2b-b3b5-ef66a229e063",
   "metadata": {},
   "outputs": [],
   "source": [
    "import os, sys, tarfile\n",
    "\n",
    "def extract(tar_url, extract_path='./TGZs-iniciales/extracted/'):\n",
    "    print(tar_url)\n",
    "    tar = tarfile.open(tar_url, 'r')\n",
    "    for item in tar:\n",
    "        tar.extract(item, extract_path)\n",
    "        if item.name.find(\".tgz\") != -1 or item.name.find(\".tar\") != -1:\n",
    "            extract(item.name, \"./\" + item.name[:item.name.rfind('/')])\n"
   ]
  },
  {
   "cell_type": "code",
   "execution_count": null,
   "id": "310ba783-6750-4cf1-93dc-7755c03bcb2f",
   "metadata": {},
   "outputs": [],
   "source": [
    "try:\n",
    "\n",
    "    extract(sys.argv[1] + '.tgz')\n",
    "    print 'Done.'\n",
    "except:\n",
    "    name = os.path.basename(sys.argv[0])\n",
    "    print name[:name.rfind('.')], '<filename>'"
   ]
  },
  {
   "cell_type": "code",
   "execution_count": 3,
   "id": "75e6cfe3-e555-4d97-a2c0-115c4c188e7a",
   "metadata": {},
   "outputs": [],
   "source": [
    "lista=[]\n",
    "for st in glob.glob('./TGZs-iniciales/*.tgz'):\n",
    "    lista.append(st[17:20])"
   ]
  },
  {
   "cell_type": "code",
   "execution_count": 11,
   "id": "f441fcc2-d362-4f17-81f0-eedb405380ed",
   "metadata": {},
   "outputs": [
    {
     "data": {
      "text/plain": [
       "'utf-8'"
      ]
     },
     "execution_count": 11,
     "metadata": {},
     "output_type": "execute_result"
    }
   ],
   "source": [
    "encoding"
   ]
  },
  {
   "cell_type": "code",
   "execution_count": 5,
   "id": "692b4e15-7127-441d-a104-635cbe79040e",
   "metadata": {
    "scrolled": true
   },
   "outputs": [],
   "source": [
    "#recover cites from text and bib\n",
    "\n",
    "def RecoverCites(text, bib=None):\n",
    "    cites=[]\n",
    "    for i in text:\n",
    "        x=i.find(\"\\\\cite\")\n",
    "        if x >=0:\n",
    "            cites.append(i)\n",
    "    ref=[]\n",
    "    for c in cites:\n",
    "        start = 0\n",
    "        \n",
    "        while start>=0:\n",
    "            start = c.find(\"\\\\cite\", start)\n",
    "            if start ==-1:\n",
    "                continue\n",
    "            j=c[start:].find(\"{\")\n",
    "            k=c[start:].find(\"}\")\n",
    "            ref.append(c[start+j+1:start+k])\n",
    "            start += 5   \n",
    "\n",
    "    ref0=[]\n",
    "    for i in ref:\n",
    "        x=i.split(',')\n",
    "        for h in x:\n",
    "            ref0.append(h.replace(' ',''))\n",
    "    \n",
    "    ref=ref0\n",
    "    \n",
    "    bib=glob.glob(bib)\n",
    "    f = open(bib[0],'r',encoding=encoding)\n",
    "    bibtex = f.read().split('@')\n",
    "    f.close()\n",
    "    \n",
    "    \n",
    "    dcites=[]\n",
    "\n",
    "    for i in ref:\n",
    "        j=0\n",
    "        for c in bibtex:\n",
    "            j=j+1\n",
    "            x=c.find(i)\n",
    "            if x >0:\n",
    "                dcites.append(j)\n",
    "    print('# de citas: ',len(set(dcites)))\n",
    "    \n",
    "    for p,d in enumerate(set(dcites)):\n",
    "        bb=bibtex[d-1].split('\\n')\n",
    "        y=bibtex[d-1].find('year')\n",
    "        x=bibtex[d-1].find('thor')\n",
    "        startau=bibtex[d-1].find('=',x)\n",
    "        endau=bibtex[d-1].find(',',x)\n",
    "        \n",
    "        starty=bibtex[d-1].find('=',y)\n",
    "        endy=bibtex[d-1].find(',',y)\n",
    "    \n",
    "        print(p+1,bibtex[d-1][startau+1:endau],'...,',bibtex[d-1][starty+1:endy])"
   ]
  },
  {
   "cell_type": "code",
   "execution_count": 10,
   "id": "6ad56bd0-fa19-4abe-a64c-59508c15753e",
   "metadata": {},
   "outputs": [],
   "source": [
    "for name in lista:\n",
    "\n",
    "    old_stdout = sys.stdout\n",
    "\n",
    "    log_file = open('./TGZs-iniciales/'+name+'.log',\"w\", encoding=\"utf-8\")\n",
    "\n",
    "    sys.stdout = log_file\n",
    "    extract(glob.glob('./TGZs-iniciales/'+name+'*.tgz')[0])\n",
    "    tex=glob.glob('./TGZs-iniciales/extracted/'+name+'.tex')\n",
    "    bib=glob.glob('./TGZs-iniciales/extracted/*.bib')\n",
    "    bibf = open(bib[0])\n",
    "    bibtex = bibf.read()\n",
    "    bibf.close()\n",
    "\n",
    "    \n",
    "    if len(tex) >1 :\n",
    "        print('multiple tex')\n",
    "    if len(tex) ==0:\n",
    "        print('no tex found')\n",
    "   # sys.argv[1]=tex\n",
    "    %run checkBAAA {tex[0]}\n",
    "    RecoverCites(text,bib=bib[0])\n",
    "    files = glob.glob('./TGZs-iniciales/extracted/*')\n",
    "    for f in files:\n",
    "        os.remove(f)\n",
    "\n",
    "    sys.stdout = old_stdout\n",
    "\n",
    "    log_file.close()\n",
    "    "
   ]
  },
  {
   "cell_type": "code",
   "execution_count": 113,
   "id": "dee0e092-76bb-4f45-9528-5b021ba49dce",
   "metadata": {
    "scrolled": true
   },
   "outputs": [
    {
     "data": {
      "text/plain": [
       "18"
      ]
     },
     "execution_count": 113,
     "metadata": {},
     "output_type": "execute_result"
    }
   ],
   "source": [
    "len(bibtex.split('@'))"
   ]
  },
  {
   "cell_type": "code",
   "execution_count": 5,
   "id": "e05f4f55-dbe5-444e-a5f4-76ef972b8beb",
   "metadata": {},
   "outputs": [],
   "source": [
    "keys.append('citep')"
   ]
  },
  {
   "cell_type": "code",
   "execution_count": 6,
   "id": "7d2ad4b2-e813-4d74-a893-4cb2371b3e04",
   "metadata": {},
   "outputs": [
    {
     "data": {
      "text/plain": [
       "['contriblanguage',\n",
       " 'contribtype',\n",
       " 'thematicarea',\n",
       " 'title',\n",
       " 'author',\n",
       " 'abstract',\n",
       " 'subtitle',\n",
       " 'keywords',\n",
       " 'institute',\n",
       " 'citep']"
      ]
     },
     "execution_count": 6,
     "metadata": {},
     "output_type": "execute_result"
    }
   ],
   "source": [
    "keys"
   ]
  },
  {
   "cell_type": "code",
   "execution_count": 7,
   "id": "a07328d9-74fb-4910-a970-ce82c029e418",
   "metadata": {},
   "outputs": [],
   "source": [
    "m2=return_metadata(text,'title')"
   ]
  },
  {
   "cell_type": "code",
   "execution_count": 12,
   "id": "16876151-87e6-4a27-bf25-9a247578232f",
   "metadata": {
    "scrolled": true
   },
   "outputs": [
    {
     "data": {
      "text/plain": [
       "['\\n',\n",
       " '%%%%%%%%%%%%%%%%%%%%%%%%%%%%%%%%%%%%%%%%%%%%%%%%%%%%%%%%%%%%%%%%%%%%%%%%%%%%%%\\n',\n",
       " '%  ************************** AVISO IMPORTANTE **************************    %\\n',\n",
       " '%                                                                            %\\n',\n",
       " '% Éste es un documento de ayuda para los autores que deseen enviar           %\\n',\n",
       " '% trabajos para su consideración en el Boletín de la Asociación Argentina    %\\n',\n",
       " '% de Astronomía.                                                             %\\n',\n",
       " '%                                                                            %\\n',\n",
       " '% Los comentarios en este archivo contienen instrucciones sobre el formato   %\\n',\n",
       " '% obligatorio del mismo, que complementan los instructivos web y PDF.        %\\n',\n",
       " '% Por favor léalos.                                                          %\\n',\n",
       " '%                                                                            %\\n',\n",
       " '%  -No borre los comentarios en este archivo.                                %\\n',\n",
       " '%  -No puede usarse \\\\newcommand o definiciones personalizadas.               %\\n',\n",
       " '%  -SiGMa no acepta artículos con errores de compilación. Antes de enviarlo  %\\n',\n",
       " '%   asegúrese que los cuatro pasos de compilación (pdflatex/bibtex/pdflatex/ %\\n',\n",
       " '%   pdflatex) no arrojan errores en su terminal. Esta es la causa más        %\\n',\n",
       " '%   frecuente de errores de envío. Los mensajes de \"warning\" en cambio son   %\\n',\n",
       " '%   en principio ignorados por SiGMa.                                        %\\n',\n",
       " '%                                                                            %\\n',\n",
       " '%%%%%%%%%%%%%%%%%%%%%%%%%%%%%%%%%%%%%%%%%%%%%%%%%%%%%%%%%%%%%%%%%%%%%%%%%%%%%%\\n',\n",
       " '\\n',\n",
       " '%%%%%%%%%%%%%%%%%%%%%%%%%%%%%%%%%%%%%%%%%%%%%%%%%%%%%%%%%%%%%%%%%%%%%%%%%%%%%%\\n',\n",
       " '%  ************************** IMPORTANT NOTE ******************************  %\\n',\n",
       " '%                                                                            %\\n',\n",
       " '%  This is a help file for authors who are preparing manuscripts to be       %\\n',\n",
       " '%  considered for publication in the Boletín de la Asociación Argentina      %\\n',\n",
       " '%  de Astronomía.                                                            %\\n',\n",
       " '%                                                                            %\\n',\n",
       " \"%  The comments in this file give instructions about the manuscripts'        %\\n\",\n",
       " '%  mandatory format, complementing the instructions distributed in the BAAA  %\\n',\n",
       " '%  web and in PDF. Please read them carefully                                %\\n',\n",
       " '%                                                                            %\\n',\n",
       " '%  -Do not delete the comments in this file.                                 %\\n',\n",
       " '%  -Using \\\\newcommand or custom definitions is not allowed.                  %\\n',\n",
       " '%  -SiGMa does not accept articles with compilation errors. Before submission%\\n',\n",
       " '%   make sure the four compilation steps (pdflatex/bibtex/pdflatex/pdflatex) %\\n',\n",
       " '%   do not produce errors in your terminal. This is the most frequent cause  %\\n',\n",
       " '%   of submission failure. \"Warning\" messsages are in principle bypassed     %\\n',\n",
       " '%   by SiGMa.                                                                %\\n',\n",
       " '%                                                                            % \\n',\n",
       " '%%%%%%%%%%%%%%%%%%%%%%%%%%%%%%%%%%%%%%%%%%%%%%%%%%%%%%%%%%%%%%%%%%%%%%%%%%%%%%\\n',\n",
       " '\\n',\n",
       " '\\\\documentclass[baaa]{baaa}\\n',\n",
       " '\\n',\n",
       " '%%%%%%%%%%%%%%%%%%%%%%%%%%%%%%%%%%%%%%%%%%%%%%%%%%%%%%%%%%%%%%%%%%%%%%%%%%%%%%\\n',\n",
       " '%  ******************** Paquetes Latex / Latex Packages *******************  %\\n',\n",
       " '%                                                                            %\\n',\n",
       " '%  -Por favor NO MODIFIQUE estos comandos.                                   %\\n',\n",
       " '%  -Si su editor de texto no codifica en UTF8, modifique el paquete          %\\n',\n",
       " \"%  'inputenc'.                                                               %\\n\",\n",
       " '%                                                                            %\\n',\n",
       " '%  -Please DO NOT CHANGE these commands.                                     %\\n',\n",
       " '%  -If your text editor does not encodes in UTF8, please change the          %\\n',\n",
       " \"%  'inputec' package                                                         %\\n\",\n",
       " '%%%%%%%%%%%%%%%%%%%%%%%%%%%%%%%%%%%%%%%%%%%%%%%%%%%%%%%%%%%%%%%%%%%%%%%%%%%%%%\\n',\n",
       " ' \\n',\n",
       " '\\\\usepackage[pdftex]{hyperref}\\n',\n",
       " '\\\\usepackage{subfigure}\\n',\n",
       " '\\\\usepackage{natbib}\\n',\n",
       " '\\\\usepackage{helvet,soul}\\n',\n",
       " '\\\\usepackage{bm}\\n',\n",
       " '\\\\usepackage[font=small]{caption}\\n',\n",
       " '\\n',\n",
       " '%%%%%%%%%%%%%%%%%%%%%%%%%%%%%%%%%%%%%%%%%%%%%%%%%%%%%%%%%%%%%%%%%%%%%%%%%%%%%%\\n',\n",
       " '%  *************************** Idioma / Language **************************  %\\n',\n",
       " '%                                                                            %\\n',\n",
       " '%  -Ver en la sección 3 \"Idioma\" para mas información                        %\\n',\n",
       " '%  -Seleccione el idioma de su contribución (opción numérica).               %\\n',\n",
       " '%  -Todas las partes del documento (titulo, texto, figuras, tablas, etc.)    %\\n',\n",
       " '%   DEBEN estar en el mismo idioma.                                          %\\n',\n",
       " '%                                                                            %\\n',\n",
       " '%  -Select the language of your contribution (numeric option)                %\\n',\n",
       " '%  -All parts of the document (title, text, figures, tables, etc.) MUST  be  %\\n',\n",
       " '%   in the same language.                                                    %\\n',\n",
       " '%                                                                            %\\n',\n",
       " '%  0: Castellano / Spanish                                                   %\\n',\n",
       " '%  1: Inglés / English                                                       %\\n',\n",
       " '%%%%%%%%%%%%%%%%%%%%%%%%%%%%%%%%%%%%%%%%%%%%%%%%%%%%%%%%%%%%%%%%%%%%%%%%%%%%%%\\n',\n",
       " '\\n',\n",
       " '\\\\contriblanguage{1}\\n',\n",
       " '\\n',\n",
       " '%%%%%%%%%%%%%%%%%%%%%%%%%%%%%%%%%%%%%%%%%%%%%%%%%%%%%%%%%%%%%%%%%%%%%%%%%%%%%%\\n',\n",
       " '%  *************** Tipo de contribución / Contribution type ***************  %\\n',\n",
       " '%                                                                            %\\n',\n",
       " '%  -Seleccione el tipo de contribución solicitada (opción numérica).         %\\n',\n",
       " '%                                                                            %\\n',\n",
       " '%  -Select the requested contribution type (numeric option)                  %\\n',\n",
       " '%                                                                            %\\n',\n",
       " '%  1: Artículo de investigación / Research article                           %\\n',\n",
       " '%  2: Artículo de revisión invitado / Invited review                         %\\n',\n",
       " '%  3: Mesa redonda / Round table                                             %\\n',\n",
       " '%  4: Artículo invitado  Premio Varsavsky / Invited report Varsavsky Prize   %\\n',\n",
       " '%  5: Artículo invitado Premio Sahade / Invited report Sahade Prize          %\\n',\n",
       " '%  6: Artículo invitado Premio Sérsic / Invited report Sérsic Prize          %\\n',\n",
       " '%%%%%%%%%%%%%%%%%%%%%%%%%%%%%%%%%%%%%%%%%%%%%%%%%%%%%%%%%%%%%%%%%%%%%%%%%%%%%%\\n',\n",
       " '\\n',\n",
       " '\\\\contribtype{1}\\n',\n",
       " '\\n',\n",
       " '%%%%%%%%%%%%%%%%%%%%%%%%%%%%%%%%%%%%%%%%%%%%%%%%%%%%%%%%%%%%%%%%%%%%%%%%%%%%%%\\n',\n",
       " '%  ********************* Área temática / Subject area *********************  %\\n',\n",
       " '%                                                                            %\\n',\n",
       " '%  -Seleccione el área temática de su contribución (opción numérica).        %\\n',\n",
       " '%                                                                            %\\n',\n",
       " '%  -Select the subject area of your contribution (numeric option)            %\\n',\n",
       " '%                                                                            %\\n',\n",
       " '%  1 : SH    - Sol y Heliosfera / Sun and Heliosphere                        %\\n',\n",
       " '%  2 : SSE   - Sistema Solar y Extrasolares  / Solar and Extrasolar Systems  %\\n',\n",
       " '%  3 : AE    - Astrofísica Estelar / Stellar Astrophysics                    %\\n',\n",
       " '%  4 : SE    - Sistemas Estelares / Stellar Systems                          %\\n',\n",
       " '%  5 : MI    - Medio Interestelar / Interstellar Medium                      %\\n',\n",
       " '%  6 : EG    - Estructura Galáctica / Galactic Structure                     %\\n',\n",
       " '%  7 : AEC   - Astrofísica Extragaláctica y Cosmología /                      %\\n',\n",
       " '%              Extragalactic Astrophysics and Cosmology                      %\\n',\n",
       " '%  8 : OCPAE - Objetos Compactos y Procesos de Altas Energías /              %\\n',\n",
       " '%              Compact Objetcs and High-Energy Processes                     %\\n',\n",
       " '%  9 : ICSA  - Instrumentación y Caracterización de Sitios Astronómicos\\n',\n",
       " '%              Instrumentation and Astronomical Site Characterization        %\\n',\n",
       " '% 10 : AGE   - Astrometría y Geodesia Espacial\\n',\n",
       " '% 11 : ASOC  - Astronomía y Sociedad                                             %\\n',\n",
       " '% 12 : O     - Otros\\n',\n",
       " '%\\n',\n",
       " '%%%%%%%%%%%%%%%%%%%%%%%%%%%%%%%%%%%%%%%%%%%%%%%%%%%%%%%%%%%%%%%%%%%%%%%%%%%%%%\\n',\n",
       " '\\n',\n",
       " '\\\\thematicarea{3}\\n',\n",
       " '\\n',\n",
       " '%%%%%%%%%%%%%%%%%%%%%%%%%%%%%%%%%%%%%%%%%%%%%%%%%%%%%%%%%%%%%%%%%%%%%%%%%%%%%%\\n',\n",
       " '%  *************************** Título / Title *****************************  %\\n',\n",
       " '%                                                                            %\\n',\n",
       " '%  -DEBE estar en minúsculas (salvo la primer letra) y ser conciso.          %\\n',\n",
       " '%  -Para dividir un título largo en más líneas, utilizar el corte            %\\n',\n",
       " '%   de línea (\\\\\\\\).                                                           %\\n',\n",
       " '%                                                                            %\\n',\n",
       " '%  -It MUST NOT be capitalized (except for the first letter) and be concise. %\\n',\n",
       " '%  -In order to split a long title across two or more lines,                 %\\n',\n",
       " '%   please use linebreaks (\\\\\\\\).                                              %\\n',\n",
       " '%%%%%%%%%%%%%%%%%%%%%%%%%%%%%%%%%%%%%%%%%%%%%%%%%%%%%%%%%%%%%%%%%%%%%%%%%%%%%%\\n',\n",
       " '% Dates\\n',\n",
       " '% Only for editors\\n',\n",
       " '\\\\received{\\\\ldots}\\n',\n",
       " '\\\\accepted{\\\\ldots}\\n',\n",
       " '\\n',\n",
       " '\\n',\n",
       " '\\n',\n",
       " '\\n',\n",
       " '%%%%%%%%%%%%%%%%%%%%%%%%%%%%%%%%%%%%%%%%%%%%%%%%%%%%%%%%%%%%%%%%%%%%%%%%%%%%%%\\n',\n",
       " '\\n',\n",
       " '\\n',\n",
       " '\\n',\n",
       " '\\\\title{Dynamos in partially convective M dwarfs}\\n',\n",
       " '\\n',\n",
       " '%%%%%%%%%%%%%%%%%%%%%%%%%%%%%%%%%%%%%%%%%%%%%%%%%%%%%%%%%%%%%%%%%%%%%%%%%%%%%%\\n',\n",
       " '%  ******************* Título encabezado / Running title ******************  %\\n',\n",
       " '%                                                                            %\\n',\n",
       " '%  -Seleccione un título corto para el encabezado de las páginas pares.      %\\n',\n",
       " '%                                                                            %\\n',\n",
       " '%  -Select a short title to appear in the header of even pages.              %\\n',\n",
       " '%%%%%%%%%%%%%%%%%%%%%%%%%%%%%%%%%%%%%%%%%%%%%%%%%%%%%%%%%%%%%%%%%%%%%%%%%%%%%%\\n',\n",
       " '\\n',\n",
       " '\\\\titlerunning{Dynamos in partially convective M dwarfs}\\n',\n",
       " '\\n',\n",
       " '%%%%%%%%%%%%%%%%%%%%%%%%%%%%%%%%%%%%%%%%%%%%%%%%%%%%%%%%%%%%%%%%%%%%%%%%%%%%%%\\n',\n",
       " '%  ******************* Lista de autores / Authors list ********************  %\\n',\n",
       " '%                                                                            %\\n',\n",
       " '%  -Ver en la sección 3 \"Autores\" para mas información                       % \\n',\n",
       " '%  -Los autores DEBEN estar separados por comas, excepto el último que       %\\n',\n",
       " '%   se separar con \\\\&.                                                       %\\n',\n",
       " '%  -El formato de DEBE ser: S.W. Hawking (iniciales luego apellidos, sin     %\\n',\n",
       " '%   comas ni espacios entre las iniciales).                                  %\\n',\n",
       " '%                                                                            %\\n',\n",
       " '%  -Authors MUST be separated by commas, except the last one that is         %\\n',\n",
       " '%   separated using \\\\&.                                                      %\\n',\n",
       " '%  -The format MUST be: S.W. Hawking (initials followed by family name,      %\\n',\n",
       " '%   avoid commas and blanks between initials).                               %\\n',\n",
       " '%%%%%%%%%%%%%%%%%%%%%%%%%%%%%%%%%%%%%%%%%%%%%%%%%%%%%%%%%%%%%%%%%%%%%%%%%%%%%%\\n',\n",
       " '\\n',\n",
       " '\\\\author{\\n',\n",
       " 'B. Toro-Velásquez\\\\inst{1},\\n',\n",
       " 'D.R.G. Schleicher\\\\inst{1},\\n',\n",
       " 'P.J. Käpylä\\\\inst{2}, \\n',\n",
       " 'C.A. Ortiz-Rodríguez\\\\inst{3},\\n',\n",
       " 'F.H. Navarrete\\\\inst{4},\\n',\n",
       " '%PJK: added linebreak \\n',\n",
       " '\\\\& \\\\\\\\\\n',\n",
       " 'J.P. Hidalgo\\\\inst{1} \\n',\n",
       " '}\\n',\n",
       " '\\n',\n",
       " '\\\\authorrunning{Toro-Velásquez et al.}\\n',\n",
       " '\\n',\n",
       " '%%%%%%%%%%%%%%%%%%%%%%%%%%%%%%%%%%%%%%%%%%%%%%%%%%%%%%%%%%%%%%%%%%%%%%%%%%%%%%\\n',\n",
       " '%  **************** E-mail de contacto / Contact e-mail *******************  %\\n',\n",
       " '%                                                                            %\\n',\n",
       " '%  -Por favor provea UNA ÚNICA dirección de e-mail de contacto.              %\\n',\n",
       " '%                                                                            %\\n',\n",
       " '%  -Please provide A SINGLE contact e-mail address.                          %\\n',\n",
       " '%%%%%%%%%%%%%%%%%%%%%%%%%%%%%%%%%%%%%%%%%%%%%%%%%%%%%%%%%%%%%%%%%%%%%%%%%%%%%%\\n',\n",
       " '\\n',\n",
       " '\\\\contact{btoro2017@udec.cl}\\n',\n",
       " '\\n',\n",
       " '%%%%%%%%%%%%%%%%%%%%%%%%%%%%%%%%%%%%%%%%%%%%%%%%%%%%%%%%%%%%%%%%%%%%%%%%%%%%%%\\n',\n",
       " '%  ********************* Afiliaciones / Affiliations **********************  %\\n',\n",
       " '%                                                                            %\\n',\n",
       " '%  -La lista de afiliaciones debe seguir el formato especificado en la       %\\n',\n",
       " '%   sección 3.4 \"Afiliaciones\".                                              %\\n',\n",
       " '%                                                                            %\\n',\n",
       " '%  -The list of affiliations must comply with the format specified in        %          \\n',\n",
       " '%   section 3.4 \"Afiliaciones\".                                              %\\n',\n",
       " '%%%%%%%%%%%%%%%%%%%%%%%%%%%%%%%%%%%%%%%%%%%%%%%%%%%%%%%%%%%%%%%%%%%%%%%%%%%%%%\\n',\n",
       " '\\n',\n",
       " '\\\\institute{\\n',\n",
       " 'Departamento de Astronomía, Universidad de Concepción, Chile\\n',\n",
       " '\\\\and\\n',\n",
       " 'Institut für Sonnenphysik (KIS), Freiburg, Alemania\\n',\n",
       " '\\\\and\\n',\n",
       " 'Hamburger Sternwarte, Universität Hamburg, Alemania\\n',\n",
       " '\\\\and\\n',\n",
       " 'Institute of Space Sciences (ICE-CSIC), Campus UAB, España\\n',\n",
       " '}\\n',\n",
       " '\\n',\n",
       " '%%%%%%%%%%%%%%%%%%%%%%%%%%%%%%%%%%%%%%%%%%%%%%%%%%%%%%%%%%%%%%%%%%%%%%%%%%%%%%\\n',\n",
       " '%  *************************** Resumen / Summary **************************  %\\n',\n",
       " '%                                                                            %\\n',\n",
       " '%  -Ver en la sección 3 \"Resumen\" para mas información                       %\\n',\n",
       " '%  -Debe estar escrito en castellano y en inglés.                            %\\n',\n",
       " '%  -Debe consistir de un solo párrafo con un máximo de 1500 (mil quinientos) %\\n',\n",
       " '%   caracteres, incluyendo espacios.                                         %\\n',\n",
       " '%                                                                            %\\n',\n",
       " '%  -Must be written in Spanish and in English.                               %\\n',\n",
       " '%  -Must consist of a single paragraph with a maximum  of 1500 (one thousand %\\n',\n",
       " '%   five hundred) characters, including spaces.                              %\\n',\n",
       " '%%%%%%%%%%%%%%%%%%%%%%%%%%%%%%%%%%%%%%%%%%%%%%%%%%%%%%%%%%%%%%%%%%%%%%%%%%%%%%\\n',\n",
       " '\\n',\n",
       " '\\\\resumen{Las enanas M son estrellas de baja masa de la secuencia principal, el tipo de estrella más común de la galaxia. Es bien sabido que tienen una importante actividad magnética, pero el mecanismo que la controla aún no está claro. Las enanas M con masas mayores a 0.35 $M_{\\\\odot}$ son parcialmente convectivas, y esta transición marca un importante cambio en la estructura estelar que puede afectar a la producción y almacenamiento de campos magnéticos internos. El objetivo de este trabajo es probar un nuevo modelo computacional para la dínamo de enanas M parcialmente convectivas. Este modelo consiste en simulaciones numéricas magnetohidrodinámicas tridimensionales utilizando el modelo de estrella en una caja, donde consideramos una estrella de radio $R$ en un cubo cartesiano de tamaño $(2.2 R)^3$. Dentro de este modelo, cambiamos las condiciones magnéticas de contorno para estudiar cómo esto puede afectar a la dínamo; además se exploraron diferentes velocidades de rotación.}\\n',\n",
       " '\\n',\n",
       " '\\\\abstract{M dwarfs are low-mass main-sequence stars, which are the most common type of star in the galaxy. It is well know that they have significant magnetic activity but the mechanism that controls is still unclear. M dwarfs more massive than $0.35 \\\\;M_{\\\\odot}$ are partially convective and this transition marks an important change in the stellar structure that can affect the production and storage of internal magnetic fields. The aim of this work is to test a new computational model for the dynamos of partially convective M dwarfs. This model consists of three-dimensional magnetohydrodynamical numerical simulations using a star-in-a-box model, where we consider a star of radius $R$ in a Cartesian cube of size $(2.2 R)^3$. Within this model, we change the magnetic boundary conditions to see how this affects the dynamo and also explore different rotation rates.}\\n',\n",
       " '\\n',\n",
       " '%Up to now, we observe clear cycles in three of our simulations with different rotation rates, while the others have dynamos that are quasi-static. In addition, we present an exceptional case where the magnetic field disappears and reappears.%\\n',\n",
       " '\\n',\n",
       " '%%%%%%%%%%%%%%%%%%%%%%%%%%%%%%%%%%%%%%%%%%%%%%%%%%%%%%%%%%%%%%%%%%%%%%%%%%%%%%\\n',\n",
       " '%                                                                            %\\n',\n",
       " '%  Seleccione las palabras clave que describen su contribución. Las mismas   %\\n',\n",
       " '%  son obligatorias, y deben tomarse de la lista de la American Astronomical %\\n',\n",
       " '%  Society (AAS), que se encuentra en la página web indicada abajo.          %\\n',\n",
       " '%                                                                            %\\n',\n",
       " '%  Select the keywords that describe your contribution. They are mandatory,  %\\n',\n",
       " '%  and must be taken from the list of the American Astronomical Society      %\\n',\n",
       " '%  (AAS), which is available at the webpage quoted below.                    %\\n',\n",
       " '%                                                                            %\\n',\n",
       " '%  https://journals.aas.org/keywords-2013/                                   %\\n',\n",
       " '%                                                                            %\\n',\n",
       " '%%%%%%%%%%%%%%%%%%%%%%%%%%%%%%%%%%%%%%%%%%%%%%%%%%%%%%%%%%%%%%%%%%%%%%%%%%%%%%\\n',\n",
       " '\\n',\n",
       " '\\\\keywords{Stars: magnetic field --- dynamo --- magnetohydrodynamics (MHD) --- stars: low-mass}\\n',\n",
       " '\\n',\n",
       " '\\\\begin{document}\\n',\n",
       " '\\n',\n",
       " '\\\\maketitle %4 paginas\\n',\n",
       " '\\\\section{Introduction}\\\\label{S_intro}\\n',\n",
       " '\\n',\n",
       " '\\n',\n",
       " 'Dynamo theory describes the process through which a rotating, convecting, and electrically conducting fluid generate and maintain a magnetic field. This theory is used to explain the presence of long-lived magnetic fields in astrophysical bodies \\\\citep{dyntheo}. In stars, the conductive fluid is the ionized gas in the convective zone and at the tachocline, which is the transition region between the radiative and convective zones.\\n',\n",
       " '\\n',\n",
       " 'M dwarfs are low-mass late-type main sequence stars, which are the most common type of stars in the galaxy \\\\citep{comunes}, and which often show significant magnetic activity \\\\citep{mfmd}. The stellar mass determines the structure of M dwarfs which range from 0.08 to 0.55 $M_{\\\\odot}$. If the M dwarf has a mass greater than 0.35 $M_{\\\\odot}$, the star is partially convective, which means that it has a radiative core and a convective envelope. If the stellar mass is less than 0.35 $M_{\\\\odot}$, the star is fully convective \\\\citep{estructure}.\\n',\n",
       " '\\n',\n",
       " 'Several models have been developed to study stellar dynamos, some of which consider fully convective stars. Most of these simulations operate in spherical shells, (e.g., \\\\citealt{brown}; \\\\citealt{paper2016}). Another option is to use the star-in-a-box model (e.g., \\\\citealt{caroo}; \\\\citealt{model}). Whereas other works model partially convective stars, such as sun-like stars (e.g., \\\\citealt{Felipe1, Felipe2}). \\\\cite{petriSL} applied a star-in-a-box model to solar-like stars in a recent study. Our goal is to apply the star-in-a-box setup for partially convective M dwarfs to study the behavior of the magnetic fields within the star. In \\\\cite{petriSL}, different rotation rates were used and it was noted that while the exact excitation mechanism of the dynamos in the current simulations is not yet clear, it was shown that the including a radiative core and regions exterior to the star are important in shaping the dynamo. \\n',\n",
       " '\\n',\n",
       " 'As a consequence, in this work we present 3D magnetohydrodynamical (MHD) numerical simulations of partially convective M dwarf stars at different rotations rates, where we changed the magnetic boundary conditions in the exterior of the star to study how this affects the dynamo. First, we present the computational methods used with a brief description of the model and the stellar parameters in section \\\\ref{S_model} and then we show the preliminary results in section \\\\ref{S_results}. We finish with the conclusions and future work in section \\\\ref{final}.\\n',\n",
       " '\\\\vfill\\n',\n",
       " '\\n',\n",
       " '\\\\section{Computational methods}\\\\label{S_model}\\n',\n",
       " '\\\\subsection{The Pencil Code}\\n',\n",
       " ' \\n',\n",
       " 'The simulations were run with the {\\\\sc Pencil Code}\\\\footnote{\\\\url{{https://pencil-code.org/}}} \\\\citep{pencil} which is a high-order finite-difference code for compressible hydrodynamics with magnetic fields. The code can solve both ordinary and partial differential equations, and it is easily adapted to different types of problems by activating or deactivating the different modules as needed. The code uses parallel domain decomposition and MPI.\\n',\n",
       " '\\n',\n",
       " '\\\\subsection{The Model}\\n',\n",
       " 'The star-in-a-box model is described in \\\\cite{model}, and is based on the set-up of \\\\cite{dobler}. We consider a sphere of radius $R$ that is enclosed in a Cartesian cube with side $H = 2.2\\\\; R$ where all coordinates $(x, y, z)$ range from $- H/2$ to $H/2$. The equations to solve are the induction, continuity, momentum, and energy conservation equations, given respectively by\\n',\n",
       " '%PJK: using eqnarray to save space\\n',\n",
       " '%\\\\begin{equation}\\n',\n",
       " '%    \\\\frac{\\\\partial \\\\mathbf{A}}{\\\\partial t} = \\\\textbf{U} \\\\times \\\\textbf{B} -\\\\eta \\\\mu_0 \\\\mathbf{J},\\n',\n",
       " '%\\\\end{equation}\\n',\n",
       " '%\\\\begin{equation}\\n',\n",
       " '%    \\\\frac{D\\\\ln{\\\\rho}}{Dt} = -{\\\\bm\\\\nabla \\\\bm\\\\cdot {\\\\bf U}},\\n',\n",
       " '%\\\\end{equation}\\n',\n",
       " '%\\\\begin{multline}\\n',\n",
       " '%    \\\\frac{D\\\\bf{u}}{Dt} = -{\\\\bf \\\\nabla} \\\\Phi -\\\\frac{1}{\\\\rho}({\\\\bf \\\\nabla} p-{\\\\bf \\\\nabla\\\\cdot} 2\\\\nu\\\\rho {\\\\bm S} + {\\\\bf J} \\\\times {\\\\bf B})\\\\\\\\\\n',\n",
       " '%    -2\\\\Omega\\\\times {\\\\bf U}+ f_d,\\n',\n",
       " '%\\\\end{multline}\\n',\n",
       " '%\\\\begin{multline}\\n',\n",
       " '%     T\\\\frac{Ds}{Dt} = -\\\\frac{1}{\\\\rho}[{\\\\bf \\\\nabla \\\\cdot} ({\\\\bf{F}_{\\\\textrm{rad}}} + {\\\\bf F}_{\\\\rm{SGS}}) + \\\\mathcal{H} - \\\\mathcal{C}]\\\\\\\\\\n',\n",
       " '%     + 2\\\\nu {\\\\bf S}^2 +\\\\mu_0 \\\\eta {\\\\bf J}^{2},\\n',\n",
       " '%\\\\end{multline}\\n',\n",
       " '\\\\begin{eqnarray}\\n',\n",
       " '    \\\\frac{\\\\partial \\\\mathbf{A}}{\\\\partial t} &=& \\\\textbf{U} \\\\times \\\\textbf{B} -\\\\eta \\\\mu_0 \\\\mathbf{J},\\\\\\\\\\n',\n",
       " '    \\\\frac{{\\\\rm D}\\\\ln{\\\\rho}}{{\\\\rm D}t} &=& -{\\\\bm\\\\nabla \\\\bm\\\\cdot {\\\\bf U}},\\\\\\\\\\n',\n",
       " '    \\\\frac{{\\\\rm D}\\\\bf{u}}{{\\\\rm D}t} &=& -{\\\\bf \\\\nabla} \\\\Phi -\\\\frac{1}{\\\\rho}({\\\\bf \\\\nabla} p-{\\\\bf \\\\nabla\\\\cdot} 2\\\\nu\\\\rho {\\\\bm S} + {\\\\bf J} \\\\times {\\\\bf B})\\\\nonumber \\\\\\\\\\n',\n",
       " '     && -2\\\\bm\\\\Omega\\\\times {\\\\bf U}+ f_d,\\\\\\\\\\n',\n",
       " '     T\\\\frac{{\\\\rm D}s}{{\\\\rm D}t} &=& -\\\\frac{1}{\\\\rho}[{\\\\bf \\\\nabla \\\\cdot} ({\\\\bf{F}_{\\\\textrm{rad}}} + {\\\\bf F}_{\\\\rm{SGS}}) + \\\\mathcal{H} - \\\\mathcal{C}]\\\\nonumber \\\\\\\\\\n',\n",
       " '     && + 2\\\\nu {\\\\bf S}^2 +\\\\mu_0 \\\\eta {\\\\bf J}^{2},\\n',\n",
       " '\\\\end{eqnarray}\\n',\n",
       " 'where $\\\\textbf{A}$ is the magnetic vector potential, $\\\\textbf{U}$ is the velocity, $\\\\textbf{B}={\\\\mathbf \\\\nabla} \\\\times \\\\textbf{A}$ is the magnetic field, $\\\\textbf{J}={\\\\bm\\\\nabla}\\\\times\\\\textbf{B}/\\\\mu_{0}$ is the current density, $\\\\mu_0$ is the permeability of vacuum, $\\\\eta$ is the magnetic diffusivity, ${\\\\rm D}/{\\\\rm D}t=\\\\partial/\\\\partial t + \\\\textbf{U}{\\\\bm\\\\cdot\\\\bm\\\\nabla}$ is the advective derivative, $\\\\rho$ is the fluid density, $\\\\Phi$ is the gravitational potential, $p$ is the pressure, $\\\\nu$ is the kinematic viscosity, $\\\\textbf{S}$ is the traceless rate-of-strain tensor. $\\\\mathcal{H}$ and $\\\\mathcal{C}$ describe heating and cooling, and $f_d$ describes the damping of flows outside the star. $\\\\bm\\\\Omega = (0,0,\\\\Omega_0)$ is the rotation rate of the star, $T$ is the temperature, $s$ is the specific entropy, $\\\\textbf{F}_{\\\\rm rad}$ is the radiative flux and $\\\\textbf{F}_{\\\\rm SGS}$ is the subgrid-scale (SGS) entropy flux. These last two expressions are respectively\\n',\n",
       " '\\\\begin{equation}\\n',\n",
       " '    \\\\textbf{F}_{\\\\textrm{rad}} = -K {\\\\bf \\\\nabla} T,\\n',\n",
       " '\\\\end{equation}\\n',\n",
       " '\\\\begin{equation}\\n',\n",
       " \"   \\\\textbf{F}_{\\\\textrm{SGS}} = - \\\\chi_{\\\\textrm{SGS}} \\\\rho {\\\\bf \\\\nabla} s',\\n\",\n",
       " '\\\\end{equation}\\n',\n",
       " \"where $K$ corresponds to Kramers opacity law, $\\\\chi_{\\\\textrm{SGS}}$ is the SGS diffusion coefficient, $s' = s - \\\\Bar{s}_t $ is the entropy fluctuation and $\\\\Bar{s}_t$ is a running temporal mean of the entropy.\\n\",\n",
       " '\\n',\n",
       " '\\\\subsection{Stellar parameters}\\n',\n",
       " '\\n',\n",
       " 'Due to the fully compressible formulation of the MHD equations, we use a much higher luminosity than in the target star to avoid the time step being limited by sound waves and to resolve the Kelvin-Helmholtz timescale. Therefore, the results must be scaled to represent them in physical units; see \\\\cite{unifis}. \\n',\n",
       " '\\n',\n",
       " 'For the conversion to physical units we need the parameters of a reference star. In this case we use a star simulated with the stellar evolution code MESA \\\\citep{MESA} with its online version MESA web\\\\footnote{\\\\url{http://user.astro.wisc.edu/~townsend/static.php?ref=mesa-web-submit}}. In particular, we simulate a star of $M_{\\\\star} = 0.75 ~  M_{\\\\odot}$, $R_{\\\\star} = 0.72~  R_{\\\\odot}$, $L = 0.94~  L_{\\\\odot}$ and $\\\\rho_{c}^{\\\\star} = 1.08\\\\times 10^{5}~ \\\\rm kg\\\\; m^{-3}$. Following the description in Appendix A of \\\\cite{unifis} we calculate the dimensionless luminosity. In the current simulation we have $\\\\mathcal{L} = 5.8\\\\times10^{-5}$ and the value from the target star is $\\\\mathcal{L}_{\\\\star} = 1.36\\\\times 10^{-12}$. Thus, the velocities are enhanced by a factor $L_{\\\\rm ratio}^{1/3} \\\\approx 350$, where $L_{\\\\rm ratio}=\\\\mathcal{L}/\\\\mathcal{L}_{\\\\star} \\\\approx 4.3\\\\times 10^{7}$.\\n',\n",
       " '\\n',\n",
       " 'The surface gravity of the star is \\n',\n",
       " '\\\\begin{equation*}\\n',\n",
       " '    g_{\\\\star}= \\\\frac{GM_{\\\\star}}{R_{\\\\star}^2} = \\\\frac{0.75}{(0.72)^2} \\\\frac{G M_{\\\\odot}}{R_{\\\\odot}^{2}} \\\\approx 1.45~ g_{\\\\odot} \\\\approx 396~ {\\\\rm m\\\\,s^{-2}},\\n',\n",
       " '\\\\end{equation*}\\n',\n",
       " 'where $g_{\\\\odot} = 274~ \\\\rm {m\\\\,s^{-2}}$. For the rotation rate conversion factor we have\\n',\n",
       " '\\\\begin{equation*}\\n',\n",
       " '    \\\\Omega^{\\\\rm sim} = L_{\\\\rm ratio}^{1/3} \\\\left(\\\\frac{g^{\\\\rm sim}}{g_{\\\\star}} \\\\frac{R_{\\\\star}}{R^{\\\\rm sim}}\\\\right)^{1/2} \\\\Omega_{\\\\star},\\n',\n",
       " '\\\\end{equation*}\\n',\n",
       " 'using the solar rotation rate $\\\\Omega_{\\\\star} = \\\\Omega_{\\\\odot} = 2.7\\\\times 10^{-6}~ \\\\rm s^{-1}$, yields\\n',\n",
       " '\\\\begin{equation*}\\n',\n",
       " '    \\\\Omega^{\\\\rm sim} = 1.062~ \\\\left(\\\\frac{g^{\\\\rm sim}}{R^{\\\\rm sim}}\\\\right)^{1/2},\\n',\n",
       " '\\\\end{equation*}\\n',\n",
       " 'where $g^{\\\\rm sim} = g^{\\\\rm sim}(r=R)\\\\approx 1$ and $R^{\\\\rm sim}=1$ in simulation units. After substitution and conversion to physical units (Mm, yr, and kG), we get conversions factors\\n',\n",
       " '\\\\begin{align}\\n',\n",
       " '    x~ [\\\\rm Mm] &\\\\approx 500~ x^{\\\\rm sim}~ [\\\\rm sim. units], \\\\\\\\\\n',\n",
       " '    t~ [\\\\rm yr] &\\\\approx 0.0125~ t^{\\\\rm sim}~ [\\\\rm sim. units], \\\\\\\\\\n',\n",
       " '    U~ [\\\\rm m\\\\,s^{-1}] &\\\\approx 1271.2~U^{\\\\rm sim}~ [\\\\rm sim. units], \\\\\\\\\\n',\n",
       " '    B~ [\\\\rm kG] &\\\\approx 4691~ B^{\\\\rm sim}~ [\\\\rm sim.units].\\n',\n",
       " '\\\\end{align}\\n',\n",
       " '\\n',\n",
       " '\\n',\n",
       " '\\\\begin{table*}[t!]\\n',\n",
       " '    \\\\centering\\n',\n",
       " '    \\\\begin{tabular}{llllclcllclll}\\n',\n",
       " '    \\\\hline\\\\hline\\\\noalign{\\\\smallskip}\\n',\n",
       " '     Run &\\\\,$\\\\Omega$ & \\\\;\\\\;\\\\;\\\\;\\\\;$\\\\nu_{\\\\rm cz}$ & \\\\;\\\\;\\\\;\\\\;\\\\;$\\\\eta_{\\\\rm cz}$ & \\\\multicolumn{1}{l}{\\\\;\\\\;\\\\;\\\\;$\\\\eta_{\\\\rm ext}$} & $\\\\rm Pr_{M}$ & \\\\multicolumn{1}{l}{$\\\\rm Pr_{\\\\rm{Me}}$} & $\\\\rm Pr_{\\\\rm SGS}$ & $\\\\rm Re_{M}$ & \\\\multicolumn{1}{l}{$\\\\rm Re_{\\\\rm{Me}}$} & $\\\\rm Re $& $\\\\rm Co$ & $\\\\rm Grid$\\\\\\\\\\n',\n",
       " '     \\\\hline\\\\noalign{\\\\smallskip}\\n',\n",
       " '     B1 & 1.0 & $1.0 \\\\times 10^{-4}$ & $1.0 \\\\times 10^{-4}$ & -- &1.0 & -- & 0.2 & 13.66 & -- & 13.66 & 5.93 & $128^3$\\\\\\\\\\n',\n",
       " '     B2$^*$ & 1.0 & $2.5 \\\\times 10^{-5}$ & $5.0 \\\\times 10^{-5}$ & -- & 0.5 & -- & 0.05 & 31.34 & -- & 62.69 & 5.17 & $128^3$\\\\\\\\ \\n',\n",
       " '     B3$^{**}$ & 1.0 & $2.5 \\\\times 10^{-5}$ & $5.0 \\\\times 10^{-5}$ & $5.0\\\\times 10^{-4}$ & 0.5 & 0.05 & 0.05 & 30.69 & 3.07 & 61.39 & 5.28 & $200^3$\\\\\\\\ \\\\hline\\\\noalign{\\\\smallskip}\\n',\n",
       " '     C1 & 2.0 & $1.0 \\\\times 10^{-4}$ & $1.0 \\\\times 10^{-4}$ & -- & 1.0 & -- & 0.2 & 11.64 & -- & 11.64 & 13.93 & $128^3$\\\\\\\\\\n',\n",
       " '     C2$^*$ & 2.0 & $2.5 \\\\times 10^{-5}$ & $5.0 \\\\times 10^{-5}$ & -- & 0.5 & -- & 0.05 & 33.79 & -- & 67.57 & 9.60 & $128^3$\\\\\\\\\\n',\n",
       " '     C3$^*$ & 2.0 & $2.5 \\\\times 10^{-5}$ & $5.0 \\\\times 10^{-5}$ & -- & 0.5 & -- & 0.05 & 26.16 & -- & 52.31 & 12.40 & $200^3$\\\\\\\\\\n',\n",
       " '     C4$^{**}$ & 2.0 & $2.5 \\\\times 10^{-5}$ & $5.0 \\\\times 10^{-5}$ & $5.0\\\\times 10^{-4}$ & 0.5 & 0.05 & 0.05 & 25.52 & 2.55 & 51.03 & 12.71 & $200^3$\\\\\\\\\\n',\n",
       " '     C5 & 2.0 & $1.5 \\\\times 10^{-4}$ & $1.5 \\\\times 10^{-4}$ & -- & 1.0 & -- & 0.6 & 7.09 & -- & 7.09 & 15.25 & $128^3$\\\\\\\\ \\\\hline\\\\noalign{\\\\smallskip}\\n',\n",
       " '     D1$^*$ & 3.0 & $2.5 \\\\times 10^{-5}$ & $5.0 \\\\times 10^{-5}$ & -- & 0.5 & -- & 0.05 & 22.95 & -- & 45.90 & 21.19 & $288^3$\\\\\\\\ \\\\hline\\\\noalign{\\\\smallskip}\\n',\n",
       " '     E1$^*$ & 5.0 & $2.5 \\\\times 10^{-5}$ & $5.0 \\\\times 10^{-5}$ & -- & 0.5 & -- & 0.05 & 16.89 & -- & 33.77 & 48.00 & $288^3$\\\\\\\\\\n',\n",
       " '     \\\\hline\\n',\n",
       " '    \\\\end{tabular}\\n',\n",
       " '    %\\\\caption{Summary of the simulation. From left to right the columns correspond to the simulation name, $\\\\Omega$ is the magnitude of angular velocity, $\\\\nu$ is the kinematic viscosity and $\\\\eta$ is the magnetic diffusivity, the last two correspond to the value at the center of the star. $\\\\rm Pr_{M}$, $\\\\rm Pr_{Me}$ and $\\\\rm Pr$ are the magnetic Prandtl number, its value in the exterior of the star and the Prandtl number respectively. $\\\\rm Re_{M}$, $\\\\rm Re_{Me}$ and $\\\\rm Re$ are the magnetic Reynolds number, its value in the exterior of the star and the fluid Reynolds number. Co is the Coriolis number and the last column is the size grid for each simulation.}\\n',\n",
       " '    \\\\caption{Summary of the simulation. From left to right the columns correspond to the simulation name, angular velocity, $\\\\nu_{\\\\rm cz}$, $\\\\eta_{\\\\rm cz}$ and $\\\\eta_{\\\\rm ext}$ are the kinematic viscosity and the magnetic diffusivity in the convective zone of the star, and the value of magnetic diffusivity outside the star, respectively. Then, we have the dimensionless numbers, which are the magnetic Prandtl number, its value in the exterior of the star, and the SGS Prandtl number, the magnetic Reynolds number inside the star, and its value in the exterior of the star, and the fluid Reynolds number, respectively. The last two columns indicate the Coriolis number and grid resolution, respectively. $^*$ indicate runs with diffusivity profile inside of the star and $^{**}$ indicate runs with a different value of $\\\\eta$ in the exterior of the star.}\\n',\n",
       " '    \\\\label{tabla}\\n',\n",
       " '\\\\end{table*}\\n',\n",
       " '\\n',\n",
       " '\\n',\n",
       " '\\n',\n",
       " '\\n',\n",
       " '\\\\subsection{Simulation Parameters}\\n',\n",
       " '\\n',\n",
       " 'The opacity of the medium is described by Kramers opacity law \\\\citep{kramerley}. We choose the value of the opacity so that we have a radiative core and a convective envelope. We use different $\\\\Omega$ for sets B, C, D and E, and three different setups are explored: in the first one (B1, C1, C5) $\\\\nu = \\\\eta$, in the second one (B2, C2, C3, D1, E1) diffusivity profiles are added inside of the star, and in the third one (B3, C4) the diffusivity profiles are added both inside and outside the star; see Table \\\\ref{tabla} for values.\\n',\n",
       " '%When we add a diffusivity profile we need to increase the resolution of the simulation to be able to see the result. This is because we us\\n',\n",
       " '%PJK: reformulated\\n',\n",
       " '%When we add a diffusivity profile we need to increase the resolution of the simulation to be able to see the result. This is because \\n',\n",
       " 'We use \\n',\n",
       " '%PJK\\n',\n",
       " 'smaller values of $\\\\eta$ and $\\\\nu$ at the center of the star, which are $5\\\\times 10^{-7}$ and $2.5\\\\times 10^{-7}$ respectively. In the second case, we decreased the value of $\\\\eta$ and $\\\\nu$ (mentioned above) by a factor $10^{2}$ below the tachocline, which is situated at about $r = 0.6 R$ (first jump). For the third case, we consider the jump inside the star mentioned before, and add a second jump in the $\\\\eta$ parameter, by a factor $10^{3}$ respect to the core value, outside of the star, i.e., $R > 1.0$. \\n',\n",
       " '%PJK: added for the referee\\n',\n",
       " 'The standard case with ${\\\\rm Pr}_{\\\\rm M} =1$ is chosen because it is numerically the most convenient. The justification to lower the diffusivity in the core is to slow down the diffusion of flows and magnetic fields from the convection zone to the core. Similarly the profile exterior to the star prevents too rapid diffusion and effectively changes the boundary condition of the magnetic field at the surface of the star.\\n',\n",
       " '%PJK\\n',\n",
       " '\\n',\n",
       " '\\n',\n",
       " '\\\\subsection{Dimensionless numbers}\\n',\n",
       " '\\n',\n",
       " 'Table \\\\ref{tabla} shows the values of different dimensionless numbers which help us to characterize each of the simulations. Here the quantities are evaluated in the convective zone of the star, so the scale of the largest convective eddies is given by $k_R = 2\\\\pi/0.4R$.\\n',\n",
       " '\\n',\n",
       " 'The Coriolis number is a measure of the influence rotation on the flow\\n',\n",
       " '\\\\begin{equation}\\n',\n",
       " '    \\\\;\\\\;\\\\;\\\\;\\\\;\\\\;\\\\;\\\\;\\\\;\\\\;\\\\;\\\\;\\\\;\\\\;\\\\;\\\\;\\\\;\\\\;\\\\;\\\\;\\\\;\\\\;\\\\;\\\\;\\\\;\\\\;\\\\;\\\\;{\\\\rm Co} = \\\\frac{2\\\\Omega_0}{u_{\\\\rm rms} k_{R}},\\n',\n",
       " '\\\\end{equation}\\n',\n",
       " 'where $u_{\\\\rm rms}$ is the volume-averaged root-mean-square velocity. The fluid and magnetic Reynolds numbers are defined as\\n',\n",
       " '\\n',\n",
       " '\\\\begin{equation}\\n',\n",
       " '   \\\\;\\\\;\\\\;\\\\;\\\\;\\\\;\\\\;\\\\;\\\\;\\\\;\\\\;\\\\;\\\\;\\\\;\\\\;\\\\;\\\\;\\\\;{\\\\rm Re} = \\\\frac{u_{\\\\rm rms}}{\\\\nu k_{R}}, \\\\; {\\\\rm Re_{\\\\rm M}} = \\\\frac{u_{\\\\rm rms}}{\\\\eta k_{R}}.\\n',\n",
       " '\\\\end{equation}\\n',\n",
       " 'The SGS Prandtl and magnetic Prandtl number are given by\\n',\n",
       " '\\\\begin{equation}\\n',\n",
       " '    \\\\;\\\\;\\\\;\\\\;\\\\;\\\\;\\\\;\\\\;\\\\;\\\\;\\\\;\\\\;\\\\;\\\\;\\\\;\\\\;{\\\\rm Pr_{SGS}} = \\\\frac{\\\\nu}{\\\\chi_{\\\\rm SGS}}, \\\\; {\\\\rm Pr_{\\\\rm M}} = \\\\frac{\\\\nu}{\\\\eta}.\\n',\n",
       " '\\\\end{equation}\\n',\n",
       " '%We must take into account that the values of ${\\\\rm Re_{\\\\rm M}}$ and $\\\\rm Pr_{\\\\rm M}$ are for the interior of the star. For the cases with different value of $\\\\eta$ in the exterior we must consider two values, one in the inside and the other in the outside of the star.\\n',\n",
       " '%PJK: shorten\\n',\n",
       " 'We note that the values of ${\\\\rm Re_{\\\\rm M}}$ and $\\\\rm Pr_{\\\\rm M}$ are given for the interior of the star. For the cases with different $\\\\eta$ in the exterior we consider two values, one in the inside and the other in the outside of the star.\\n',\n",
       " '%PJK: added from the response to referee\\n',\n",
       " 'As in all numerical simulations of stellar convection the Prandtl is much larger and Reynolds numbers much smaller than in reality. The only effect that can be accurately modeled is the rotational influence measured by the Coriolis number; see, e.g. \\\\cite{2023SSRv..219...58K}.\\n',\n",
       " '\\n',\n",
       " '\\n',\n",
       " '\\\\begin{figure*}[t!]\\n',\n",
       " '    \\\\centering\\n',\n",
       " '    \\\\includegraphics[width=0.67\\\\columnwidth]{pbfly_B1_ar.png}\\n',\n",
       " '    \\\\includegraphics[width=0.67\\\\columnwidth]{pbfly_B2_ar.png}\\n',\n",
       " '    \\\\includegraphics[width=0.67\\\\columnwidth]{pbfly_B3_ar.png}\\n',\n",
       " '    \\\\includegraphics[width=0.67\\\\columnwidth]{pbfly_C1_ar.png}\\n',\n",
       " '    \\\\includegraphics[width=0.67\\\\columnwidth]{pbfly_C3_ar.png}\\n',\n",
       " '    \\\\includegraphics[width=0.67\\\\columnwidth]{pbfly_C4_ar.png}\\n',\n",
       " '    \\\\caption{Time-latitude diagrams of the mean toroidal magnetic field $\\\\overline{B}_{\\\\phi}(R, t)$ for a period of 200 yr for sets B and C. The y axes correspond to the latitude and the colour bar corresponds to $B_{\\\\phi}$ in kG. The dotted horizontal line indicates the equator. In the lower left corner is indicates the value of the magnetic field. \\\\emph{Upper panels:} Results for runs B1, B2 and B3 from left to right. \\\\emph{Lower panels:} Results for runs C1, C3 and C4 from left to right.}\\n',\n",
       " '    \\\\label{pbfly}\\n',\n",
       " '\\\\end{figure*}\\n',\n",
       " '\\n',\n",
       " '\\n',\n",
       " '\\\\section{Preliminary results}\\\\label{S_results}\\n',\n",
       " '\\n',\n",
       " '%PJK: using \\\\overline instead of \\\\bar looks better\\n',\n",
       " 'Figure \\\\ref{pbfly} shows the evolution of the azimuthally averaged magnetic field $\\\\overline{B}_{\\\\phi}$ at the surface of the star as a function of time for the simulations of sets B and C. \\n',\n",
       " '%PJK: reformulated\\n',\n",
       " 'We choose simulations with each of our three setups: no diffusivity profiles, profile in the core, and profile in the core and exterior.\\n',\n",
       " '%{\\\\bf For set} C we choose the runs C1, C3 and C4. Here we see the effect of the magnetic boundary conditions. We can notice that in the upper panel of the Fig. \\\\ref{pbfly} (set B), B1, B2 and B3 have different solutions. \\n',\n",
       " '%PJK: moved lower and reformulated\\n',\n",
       " '%In terms of the minimum and maximum magnetic field, we have values of $(\\\\Bar{B}_{\\\\phi}^{\\\\rm min}, \\\\Bar{B}_{\\\\phi}^{\\\\rm max}) = (-36.1, 32.4)~ \\\\rm kG$ for B1, $(\\\\Bar{B}_{\\\\phi}^{\\\\rm min}, \\\\Bar{B}_{\\\\phi}^{\\\\rm max}) = (-47.8, 32.3)~ \\\\rm kG$ for B2 and $(\\\\Bar{B}_{\\\\phi}^{\\\\rm min}, \\\\Bar{B}_{\\\\phi}^{\\\\rm max}) = (-30.5, 20.5)~ \\\\rm kG$ for B3. \\n',\n",
       " '%PJK: I think that the maxima are not so important here\\n',\n",
       " '%PJK: moved from above and expanded\\n',\n",
       " 'The upper panel of the Fig.~\\\\ref{pbfly} shows the results for runs B1, B2, and B3.\\n',\n",
       " '%Run B1 has more concentrated magnetic field near the equator which show some polarity changes, and appears to be quasi-static at the poles.\\n',\n",
       " '%PJK: reformulated\\n',\n",
       " 'Run B1 with no diffusivity profiles has more cyclic fields near the equator toward the end of the simulation.\\n',\n",
       " '%In B2, for which we add a jump inside of the star, we see near to the equator a quasi-static pattern, some reversals on top of and a quasi-static magnetic fields at the poles. \\n',\n",
       " '%PJK: shortened\\n',\n",
       " 'In B2, for with a diffusivity jump inside the star, we see a quasi-static unipolar field superimposed with a cyclic pattern near the equator.\\n',\n",
       " '%In the B3, where we add the jump inside and outside the star, we do not see any cycles or change in the polarity. \\n',\n",
       " '%PJK:\\n',\n",
       " 'In run B3, with diffusivity jumps inside and outside the star, the cycles disappear. \\n',\n",
       " '%PJK: combine paragraphs\\n',\n",
       " '%For the lower panel of the Fig. \\\\ref{pbfly} (set C), in terms of the minimum and maximum magnetic field, we have values of $(\\\\Bar{B}_{\\\\phi}^{\\\\rm min}, \\\\Bar{B}_{\\\\phi}^{\\\\rm max}) = (-27.8, 28.8)~ \\\\rm kG$ for C1, $(\\\\Bar{B}_{\\\\phi}^{\\\\rm min}, \\\\Bar{B}_{\\\\phi}^{\\\\rm max}) = (-36.2, 36.1)~ \\\\rm kG$ for C3 and $(\\\\Bar{B}_{\\\\phi}^{\\\\rm min}, \\\\Bar{B}_{\\\\phi}^{\\\\rm max}) = (-20.8, 22.0)~ \\\\rm kG$ for C4. \\n',\n",
       " '%PJK: the maxima are not so important here\\n',\n",
       " '%In C1, the dynamo seems to be less regular with sporadic activity, and concentration near to the equator. \\n',\n",
       " '%PJK: reworded\\n',\n",
       " 'In run C1, the dynamo is irregular and concentrated near the equator with sporadic activity with long quiescent periods.\\n',\n",
       " ' In run C3 we see regular cycles near the equator with a period about $P_{\\\\rm cyc} = 21.7 ~ \\\\rm [yr]$. Finally, run C4 has a quasi-static dynamo concentrated in the northern hemisphere.\\n',\n",
       " '\\n',\n",
       " '%If we compare the sets with each other, we can notice some similarities depending on the boundary condition being used. \\n',\n",
       " '%PJK: horten\\n',\n",
       " 'Comparing the sets of runs, we notice similarities depending on the boundary conditions used. \\n',\n",
       " '%B2 and C3 (with one jump) have a similar structure to that of the Solar butterfly diagram, whereas C3 has the most regular cycles and the clearest changes in the polarity of the dynamo. \\n',\n",
       " '%PJK: shorten and reworded\\n',\n",
       " ' Runs B2 and C3 (with one jump) show similarity with the solar butterfly diagram, with C3 having the most regular cycles.\\n',\n",
       " 'On the other hand, runs B3 and C4 (with two jumps) have quasi-static dynamos, without polarity changes.\\n',\n",
       " '%PJK: speculating a little about the differences\\n',\n",
       " 'A plausible reason for the differences in the dynamos depending on the diffusivity profiles is that if magnetic fields cannot penetrate (or they need more time to do so) the core and the exterior, the possible dynamo modes that can be excited will also be different from the case where uniform diffusion is used. This is most clearly seen in the case where a larger diffusivity is applied in the exterior of the star (runs B3 and C4) in which cases the cyclic solutions disappear. This can be understood as a lower excitation threshold for quasi-static solution in this geometry. It less clear why the dynamo in Run C1 operates only intermittently. A possibility is that the dynamo is only weakly supercritical for this combination of $\\\\Omega$ and constant diffusivity. A more through analysis in terms of mean-field dynamo theory is needed to ascertain the precises causes for the changing behavior.\\n',\n",
       " '\\n',\n",
       " '%As for the cycles, we can observe that only simulation C3 has the most defined cycles compared to the other simulations (B1, B2, B3, C1, C4), of which B1 seems to have cycles at the end of the run and B2 seems to have cycles at the beginning of the run but in a more irregular way. Run C1, even with irregular activity, shows that the magnetic field changes polarity, but no cyclicity is observed. However, to be sure that these three runs (B1, B2, C1) do not have cycles, we should run these simulations for a longer time. \\n',\n",
       " '%PJK: Condensed to this\\n',\n",
       " ' We observe clear cycles only in runs C3 and toward the end of run B1. Longer time series is needed to ascertain this and whether the cycles in run B2 continue to fade away or whether they are robust. These issues will be revisited in a future study.\\n',\n",
       " '\\n',\n",
       " '%Finally in runs B3 and C4 we do not see any cycles since they have a quasi-static dynamo.\\n',\n",
       " '%PJK: this is already clear from the figure\\n',\n",
       " '\\n',\n",
       " '%%%%%%%%%%%%%%%%%%%%%%%%%%%%%%%%%%%%%%%%%%%%%%%%%%%%%%%%%%%%%%%%%%%%%%%%%%%%%%\\n',\n",
       " '% Para figuras de dos columnas use \\\\begin{figure*} ... \\\\end{figure*}         %\\n',\n",
       " '%%%%%%%%%%%%%%%%%%%%%%%%%%%%%%%%%%%%%%%%%%%%%%%%%%%%%%%%%%%%%%%%%%%%%%%%%%%%%%\\n',\n",
       " '\\n',\n",
       " '%\\\\begin{figure*}[t!]\\n',\n",
       " '%    \\\\centering\\n',\n",
       " '%    \\\\includegraphics[width=5.7cm]{AAA_2023/B1_200pbfly.png}\\n',\n",
       " '%    \\\\includegraphics[width=5.7cm]{AAA_2023/B2_200pbfly.png}\\n',\n",
       " '%    \\\\includegraphics[width=5.7cm]{AAA_2023/B3_200pbfly.png}\\n',\n",
       " '%    \\\\caption{Caption}\\n',\n",
       " '%    \\\\label{pbfly}\\n',\n",
       " '%\\\\end{figure*}\\n',\n",
       " '\\n',\n",
       " '\\\\section{Summary and future work}\\\\label{final}\\n',\n",
       " '\\n',\n",
       " 'It is clear that changing the conditions in the interior or exterior of the star, the large-sclae magnetic field is affected. In particular, enhancing the diffusivity exterior to the star leads to the disappearance of cyclic solutions.\\n',\n",
       " '%PJK: added\\n',\n",
       " 'This is most likely due to different excitation conditions of cyclic and stationary dynamos depending on the spatial distribution of the diffusion coefficients.\\n',\n",
       " '\\n',\n",
       " '%PJK: added future work explicitly\\n',\n",
       " ' In future work these results can be compared with the simulations of \\\\cite{caroo}, who studied fully convective M dwarfs with the same model. This can be useful to explore what happens in the transition from fully convective to partially convective M dwarfs.\\n',\n",
       " '%PJK: combine paras\\n',\n",
       " 'As we already know the parameter regime where we obtain a dynamo, we will complete the set D and E with a simulation where the exterior magnetic boundary condition changes, and add another set (A) similar to sets D and E but with an $\\\\Omega = 0.5$ to study how the magnetic field behaves over a considerable range of rotation rates.\\n',\n",
       " '%PJK: added this\\n',\n",
       " 'These simulations will be used to study the relation between stellar rotation and cycles.\\n',\n",
       " '\\n',\n",
       " '\\\\begin{acknowledgement}\\n',\n",
       " 'We acknowledge the Kultrun Astronomy Hybrid Cluster via the projects Conicyt\\n',\n",
       " \"Quimal \\\\#170001, Conicyt PIA ACT172033, and Fondecyt Iniciacion 11170268. The support by the ANID BASAL project FB210003, and Fondecyt Regular (project code 1201280) and the Alexander von Humboldt - Foundation, Bonn, Germany. PJK was supported in part by the Deutsche Forschungsgemeinschaft (DFG, German Research Foundation) Heisenberg programme (grant No.\\\\ KA 4825/4-1), and by the Munich Institute for Astro-, Particle and BioPhysics (MIAPbP) which is funded by the DFG under Germany's Excellence Strategy – EXC-2094 – 390783311. \\n\",\n",
       " '\\\\end{acknowledgement}\\n',\n",
       " '\\n',\n",
       " '%%%%%%%%%%%%%%%%%%%%%%%%%%%%%%%%%%%%%%%%%%%%%%%%%%%%%%%%%%%%%%%%%%%%%%%%%%%%%%\\n',\n",
       " '%  ******************* Bibliografía / Bibliography ************************  %\\n',\n",
       " '%                                                                            %\\n',\n",
       " '%  -Ver en la sección 3 \"Bibliografía\" para mas información.                 %\\n',\n",
       " '%  -Debe usarse BIBTEX.                                                      %\\n',\n",
       " '%  -NO MODIFIQUE las líneas de la bibliografía, salvo el nombre del archivo  %\\n',\n",
       " '%   BIBTEX con la lista de citas (sin la extensión .BIB).                    %\\n',\n",
       " '%                                                                            %\\n',\n",
       " '%  -BIBTEX must be used.                                                     %\\n',\n",
       " '%  -Please DO NOT modify the following lines, except the name of the BIBTEX  %\\n',\n",
       " '%  file (without the .BIB extension).                                       %\\n',\n",
       " '%%%%%%%%%%%%%%%%%%%%%%%%%%%%%%%%%%%%%%%%%%%%%%%%%%%%%%%%%%%%%%%%%%%%%%%%%%%%%% \\n',\n",
       " '\\n',\n",
       " '\\n',\n",
       " '\\n',\n",
       " '\\\\bibliographystyle{baaa}\\n',\n",
       " '\\\\small\\n',\n",
       " '\\\\bibliography{bibliografia}\\n',\n",
       " ' \\n',\n",
       " '\\\\end{document}\\n']"
      ]
     },
     "execution_count": 12,
     "metadata": {},
     "output_type": "execute_result"
    }
   ],
   "source": [
    "text"
   ]
  },
  {
   "cell_type": "code",
   "execution_count": 163,
   "id": "1fd710b8-a319-45be-b7dc-cac5e7152827",
   "metadata": {},
   "outputs": [
    {
     "name": "stdout",
     "output_type": "stream",
     "text": [
      "{'penzias_cmb_1965,penzias_cmb_II_1965', 'navarro_NFW_1997', 'Hough_etal_BAAA_2020', 'hubble_expansion_1929', 'Planck_2016', 'riess_SN1a_1998'}\n",
      "# de citas:  7\n",
      "1  {{Hubble} ...,  1929\n",
      "2  {{Penzias} ...,  1965\n",
      "3  {{Penzias} ...,  1965\n",
      "4  {{Navarro} ...,  1997\n",
      "5  {{Riess} ...,  1998\n",
      "6  {{Planck Collaboration} and {Ade} ...,  2016\n",
      "7  {{Hough} ...,  2020\n"
     ]
    }
   ],
   "source": [
    "RecoverCites(text,bib='./test/*.bib')"
   ]
  },
  {
   "cell_type": "code",
   "execution_count": 109,
   "id": "2f9492c6-ffb0-49e6-8a2f-544304e115d7",
   "metadata": {},
   "outputs": [],
   "source": [
    "\n",
    "bib=glob.glob('./test/*.bib')\n",
    "f = open(bib[0],'r',encoding=encoding)\n",
    "bibtex = f.read().split('@')\n",
    "f.close()\n"
   ]
  },
  {
   "cell_type": "code",
   "execution_count": 128,
   "id": "e1372fb7-5df3-415d-90b4-408a6906afe3",
   "metadata": {},
   "outputs": [
    {
     "name": "stdout",
     "output_type": "stream",
     "text": [
      "2\n"
     ]
    }
   ],
   "source": [
    "for t in bibtex[7].split('\\n'):\n",
    "    s=t.find('thor')\n",
    "    if s > 0:\n",
    "        print(s)"
   ]
  },
  {
   "cell_type": "code",
   "execution_count": 127,
   "id": "05e5ac6a-ce43-4c36-81e7-4eb917f909ef",
   "metadata": {},
   "outputs": [
    {
     "data": {
      "text/plain": [
       "['ARTICLE{Planck_2016,',\n",
       " '',\n",
       " 'author = {{Planck Collaboration} and {Ade}, P.~A.~R. and {Aghanim}, N. and',\n",
       " '        {Arnaud}, M. and {Ashdown}, M. and {Aumont}, J. and',\n",
       " '        {Baccigalupi}, C. and {Banday}, A.~J. and {Barreiro}, R.~B. and',\n",
       " '        {Bartlett}, J.~G. and {Bartolo}, N. and {Battaner}, E. and',\n",
       " '        {Battye}, R. and {Benabed}, K. and {Benoit}, A. and',\n",
       " '        {Benoit}, A. and {Bernard}, J. -P. and {Bersanelli}, M.},',\n",
       " '        title = \"{Planck 2015 results. XIII. Cosmological parameters}\",',\n",
       " '      journal = {\\\\aap},',\n",
       " '     keywords = {cosmology: observations, cosmology: theory, cosmic background radiation,',\n",
       " '        cosmological parameters, Astrophysics - Cosmology and',\n",
       " '        Nongalactic Astrophysics},',\n",
       " '         year = 2016,',\n",
       " '        month = Sep,',\n",
       " '       volume = {594},',\n",
       " '          eid = {A13},',\n",
       " '        pages = {A13},',\n",
       " '          doi = {10.1051/0004-6361/201525830},',\n",
       " ' primaryClass = {astro-ph.CO},',\n",
       " '       adsurl = {https://ui.adsabs.harvard.edu/#abs/2016A&A...594A..13P},',\n",
       " '      adsnote = {Provided by the SAO/NASA Astrophysics Data System}',\n",
       " '}',\n",
       " '',\n",
       " '']"
      ]
     },
     "execution_count": 127,
     "metadata": {},
     "output_type": "execute_result"
    }
   ],
   "source": [
    "bibtex[7].split('\\n')"
   ]
  },
  {
   "cell_type": "code",
   "execution_count": 134,
   "id": "70274a7c-8792-42d3-b08a-1eae86cb596a",
   "metadata": {},
   "outputs": [
    {
     "name": "stdout",
     "output_type": "stream",
     "text": [
      "1  {{Hough} ...,  2020\n",
      "2  {{Hubble} ...,  1929\n",
      "3  {{Penzias} ...,  1965\n",
      "4  {{Penzias} ...,  1965\n",
      "5  {{Navarro} ...,  1997\n",
      "6  {{Riess} ...,  1998\n",
      "7  {{Planck Collaboration} and {Ade} ...,  2016\n"
     ]
    }
   ],
   "source": [
    "\n",
    "dcites=[]\n",
    "for i in ref:\n",
    "    j=0\n",
    "    for c in bibtex:\n",
    "        j=j+1\n",
    "        x=c.find(i)\n",
    "        if x >0:\n",
    "            dcites.append(j)\n",
    "\n",
    "for p,d in enumerate(dcites):\n",
    "    bb=bibtex[d-1].split('\\n')\n",
    "    y=bibtex[d-1].find('year')\n",
    "    x=bibtex[d-1].find('thor')\n",
    "    startau=bibtex[d-1].find('=',x)\n",
    "    endau=bibtex[d-1].find(',',x)\n",
    "    \n",
    "    starty=bibtex[d-1].find('=',y)\n",
    "    endy=bibtex[d-1].find(',',y)\n",
    "\n",
    "    print(p+1,bibtex[d-1][startau+1:endau],'...,',bibtex[d-1][starty+1:endy])\n",
    "    \n",
    "    \n"
   ]
  },
  {
   "cell_type": "code",
   "execution_count": 105,
   "id": "07b6d078-f3c8-4bb3-ae2d-f87fe0c7b208",
   "metadata": {},
   "outputs": [
    {
     "data": {
      "text/plain": [
       "[9, 3, 4, 5, 6, 7, 8]"
      ]
     },
     "execution_count": 105,
     "metadata": {},
     "output_type": "execute_result"
    }
   ],
   "source": [
    "dcites"
   ]
  },
  {
   "cell_type": "code",
   "execution_count": 49,
   "id": "1359e6dd-cfb2-4f01-ae1f-694e52b1605c",
   "metadata": {},
   "outputs": [
    {
     "data": {
      "text/plain": [
       "'hubble_expansion_1929'"
      ]
     },
     "execution_count": 49,
     "metadata": {},
     "output_type": "execute_result"
    }
   ],
   "source": [
    "ref[0].format('b')"
   ]
  },
  {
   "cell_type": "code",
   "execution_count": 63,
   "id": "d8889b33-9318-4b92-a5b7-3a6ed495d3b5",
   "metadata": {},
   "outputs": [
    {
     "data": {
      "text/plain": [
       "'ARTICLE{hubble_expansion_1929,\\n   author = {{Hubble}, E.},\\n    title = \"{A Relation between Distance and Radial Velocity among Extra-Galactic Nebulae}\",\\n  journal = {Proceedings of the National Academy of Science},\\n     year = 1929,\\n    month = mar,\\n   volume = 15,\\n    pages = {168-173},\\n      doi = {10.1073/pnas.15.3.168},\\n   adsurl = {http://esoads.eso.org/abs/1929PNAS...15..168H},\\n  adsnote = {Provided by the SAO/NASA Astrophysics Data System}\\n}\\n\\n'"
      ]
     },
     "execution_count": 63,
     "metadata": {},
     "output_type": "execute_result"
    }
   ],
   "source": [
    "bibtex.split('@')[2]"
   ]
  },
  {
   "cell_type": "code",
   "execution_count": 10,
   "id": "1078981a-a2eb-4e34-8676-1bb9fb2c660e",
   "metadata": {},
   "outputs": [],
   "source": [
    "m2=return_metadata(cites[0],'citep')"
   ]
  },
  {
   "cell_type": "code",
   "execution_count": 11,
   "id": "2bcabb8a-3860-4ac5-aace-3ab48840a902",
   "metadata": {},
   "outputs": [
    {
     "data": {
      "text/plain": [
       "{'citep': 'dyntheo', 'subtitle': False}"
      ]
     },
     "execution_count": 11,
     "metadata": {},
     "output_type": "execute_result"
    }
   ],
   "source": [
    "m2"
   ]
  },
  {
   "cell_type": "code",
   "execution_count": 12,
   "id": "c7208b43-212b-4c5c-ba70-7689d39d3131",
   "metadata": {},
   "outputs": [],
   "source": [
    "from latexcompiler import LC"
   ]
  },
  {
   "cell_type": "code",
   "execution_count": 15,
   "id": "ecb8e59a-adce-488c-ad6a-ce21e27453e8",
   "metadata": {},
   "outputs": [
    {
     "name": "stderr",
     "output_type": "stream",
     "text": [
      "Compile LaTeX file(s): 100%|##############################################################| 2/2 [00:01<00:00,  1.96it/s]\n"
     ]
    }
   ],
   "source": [
    "tex_name='./template_BAAA64/articulo-baaa65.tex'\n",
    "\n",
    "LC.compile_document(tex_engine = 'pdflatex',\n",
    "                    bib_engine = 'biber', # Value is not necessary\n",
    "                    no_bib = True,\n",
    "                    path = tex_name, # Provide the full path to the file!\n",
    "                    folder_name = '.aux_files')"
   ]
  },
  {
   "cell_type": "code",
   "execution_count": 34,
   "id": "b0f4bc8e-7e00-4da6-a4a6-3c1bbe356027",
   "metadata": {},
   "outputs": [],
   "source": [
    "files = glob.glob('./TGZs-iniciales/extracted/*')\n",
    "for f in files:\n",
    "    os.remove(f)"
   ]
  },
  {
   "cell_type": "code",
   "execution_count": 16,
   "id": "0200091d-b01b-4549-ba07-8c72379030f2",
   "metadata": {},
   "outputs": [
    {
     "data": {
      "text/plain": [
       "1"
      ]
     },
     "execution_count": 16,
     "metadata": {},
     "output_type": "execute_result"
    }
   ],
   "source": [
    "os.system(\"pdflatex ./template_BAAA64/articulo-baaa65.tex\")"
   ]
  },
  {
   "cell_type": "code",
   "execution_count": null,
   "id": "c01b328d-c810-48de-9eb7-a2806d78ddf2",
   "metadata": {},
   "outputs": [],
   "source": []
  }
 ],
 "metadata": {
  "kernelspec": {
   "display_name": "Python 3 (ipykernel)",
   "language": "python",
   "name": "python3"
  },
  "language_info": {
   "codemirror_mode": {
    "name": "ipython",
    "version": 3
   },
   "file_extension": ".py",
   "mimetype": "text/x-python",
   "name": "python",
   "nbconvert_exporter": "python",
   "pygments_lexer": "ipython3",
   "version": "3.12.2"
  }
 },
 "nbformat": 4,
 "nbformat_minor": 5
}
