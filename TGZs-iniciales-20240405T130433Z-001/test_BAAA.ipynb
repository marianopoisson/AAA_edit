{
 "cells": [
  {
   "cell_type": "code",
   "execution_count": 1,
   "id": "224bdac0-71c2-46b4-af35-581db4f2ae34",
   "metadata": {},
   "outputs": [],
   "source": [
    "import checkBAAA\n",
    "import glob\n",
    "import os, sys, tarfile\n"
   ]
  },
  {
   "cell_type": "code",
   "execution_count": 2,
   "id": "b6a7c08c-dc5d-4f2b-b3b5-ef66a229e063",
   "metadata": {},
   "outputs": [],
   "source": [
    "# tar extract\n",
    "\n",
    "def extract(tar_url, extract_path='./TGZs-iniciales/extracted/'):\n",
    "    print(tar_url)\n",
    "    tar = tarfile.open(tar_url, 'r')\n",
    "    for item in tar:\n",
    "        tar.extract(item, extract_path)\n",
    "        if item.name.find(\".tgz\") != -1 or item.name.find(\".tar\") != -1:\n",
    "            extract(item.name, \"./\" + item.name[:item.name.rfind('/')])\n"
   ]
  },
  {
   "cell_type": "code",
   "execution_count": 3,
   "id": "75e6cfe3-e555-4d97-a2c0-115c4c188e7a",
   "metadata": {},
   "outputs": [],
   "source": [
    "lista=[]\n",
    "for st in glob.glob('./TGZs-iniciales/*.tgz'):\n",
    "    lista.append(st[17:20])"
   ]
  },
  {
   "cell_type": "code",
   "execution_count": 5,
   "id": "692b4e15-7127-441d-a104-635cbe79040e",
   "metadata": {
    "scrolled": true
   },
   "outputs": [],
   "source": [
    "#recover cites from text and bib\n",
    "\n",
    "def RecoverCites(text, bib=None):\n",
    "    cites=[]\n",
    "    for i in text:\n",
    "        x=i.find(\"\\\\cite\")\n",
    "        if x >=0:\n",
    "            cites.append(i)\n",
    "    ref=[]\n",
    "    for c in cites:\n",
    "        start = 0\n",
    "        \n",
    "        while start>=0:\n",
    "            start = c.find(\"\\\\cite\", start)\n",
    "            if start ==-1:\n",
    "                continue\n",
    "            j=c[start:].find(\"{\")\n",
    "            k=c[start:].find(\"}\")\n",
    "            ref.append(c[start+j+1:start+k])\n",
    "            start += 5   \n",
    "\n",
    "    ref0=[]\n",
    "    for i in ref:\n",
    "        x=i.split(',')\n",
    "        for h in x:\n",
    "            ref0.append(h.replace(' ',''))\n",
    "    \n",
    "    ref=ref0\n",
    "    \n",
    "    bib=glob.glob(bib)\n",
    "    f = open(bib[0],'r',encoding=encoding)\n",
    "    bibtex = f.read().split('@')\n",
    "    f.close()\n",
    "    \n",
    "    \n",
    "    dcites=[]\n",
    "\n",
    "    for i in ref:\n",
    "        j=0\n",
    "        for c in bibtex:\n",
    "            j=j+1\n",
    "            x=c.find(i)\n",
    "            if x >0:\n",
    "                dcites.append(j)\n",
    "    print('# de citas: ',len(set(dcites)))\n",
    "    \n",
    "    for p,d in enumerate(set(dcites)):\n",
    "        bb=bibtex[d-1].split('\\n')\n",
    "        y=bibtex[d-1].find('year')\n",
    "        x=bibtex[d-1].find('thor')\n",
    "        startau=bibtex[d-1].find('=',x)\n",
    "        endau=bibtex[d-1].find(',',x)\n",
    "        \n",
    "        starty=bibtex[d-1].find('=',y)\n",
    "        endy=bibtex[d-1].find(',',y)\n",
    "    \n",
    "        print(p+1,bibtex[d-1][startau+1:endau],'...,',bibtex[d-1][starty+1:endy])"
   ]
  },
  {
   "cell_type": "code",
   "execution_count": 6,
   "id": "6ad56bd0-fa19-4abe-a64c-59508c15753e",
   "metadata": {},
   "outputs": [],
   "source": [
    "for name in lista:\n",
    "\n",
    "    old_stdout = sys.stdout\n",
    "\n",
    "    log_file = open('./TGZs-iniciales/'+name+'.log',\"w\", encoding=\"utf-8\")\n",
    "\n",
    "    sys.stdout = log_file\n",
    "    extract(glob.glob('./TGZs-iniciales/'+name+'*.tgz')[0])\n",
    "    tex=glob.glob('./TGZs-iniciales/extracted/'+name+'.tex')\n",
    "    bib=glob.glob('./TGZs-iniciales/extracted/*.bib')\n",
    "    bibf = open(bib[0])\n",
    "    bibtex = bibf.read()\n",
    "    bibf.close()\n",
    "\n",
    "    \n",
    "    if len(tex) >1 :\n",
    "        print('multiple tex')\n",
    "    if len(tex) ==0:\n",
    "        print('no tex found')\n",
    "   # sys.argv[1]=tex\n",
    "    %run checkBAAA {tex[0]}\n",
    "    RecoverCites(text,bib=bib[0])\n",
    "    files = glob.glob('./TGZs-iniciales/extracted/*')\n",
    "    for f in files:\n",
    "        os.remove(f)\n",
    "\n",
    "    sys.stdout = old_stdout\n",
    "\n",
    "    log_file.close()\n",
    "    "
   ]
  }
 ],
 "metadata": {
  "kernelspec": {
   "display_name": "Python 3 (ipykernel)",
   "language": "python",
   "name": "python3"
  },
  "language_info": {
   "codemirror_mode": {
    "name": "ipython",
    "version": 3
   },
   "file_extension": ".py",
   "mimetype": "text/x-python",
   "name": "python",
   "nbconvert_exporter": "python",
   "pygments_lexer": "ipython3",
   "version": "3.12.2"
  }
 },
 "nbformat": 4,
 "nbformat_minor": 5
}
