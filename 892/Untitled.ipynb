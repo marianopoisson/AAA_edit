{
 "cells": [
  {
   "cell_type": "code",
   "execution_count": 1,
   "id": "2480313e-bbfa-42f1-a7cb-6f218dcc46a7",
   "metadata": {},
   "outputs": [],
   "source": [
    "import os, sys, tarfile"
   ]
  },
  {
   "cell_type": "code",
   "execution_count": 7,
   "id": "9a8e7832-81d2-4e48-a17d-fdc4e21349fa",
   "metadata": {},
   "outputs": [],
   "source": [
    "tar = tarfile.open(\"892.tgz\", \"w|gz\")\n",
    "for name in os.listdir()[1:-1]:\n",
    "    tar.add(name)\n",
    "tar.close()"
   ]
  },
  {
   "cell_type": "code",
   "execution_count": 6,
   "id": "2911aee7-1148-4d46-af7c-10d89f3d4ae6",
   "metadata": {},
   "outputs": [
    {
     "data": {
      "text/plain": [
       "['892.pdf',\n",
       " '892.tex',\n",
       " 'bestfit.pdf',\n",
       " 'bibliografia.bib',\n",
       " 'reffhistogram.pdf',\n",
       " 'SEED.pdf']"
      ]
     },
     "execution_count": 6,
     "metadata": {},
     "output_type": "execute_result"
    }
   ],
   "source": [
    "os.listdir()[1:-1]"
   ]
  },
  {
   "cell_type": "code",
   "execution_count": null,
   "id": "e0bcba3b-fdab-439b-a3d2-15ab2661b8cf",
   "metadata": {},
   "outputs": [],
   "source": []
  }
 ],
 "metadata": {
  "kernelspec": {
   "display_name": "Python 3 (ipykernel)",
   "language": "python",
   "name": "python3"
  },
  "language_info": {
   "codemirror_mode": {
    "name": "ipython",
    "version": 3
   },
   "file_extension": ".py",
   "mimetype": "text/x-python",
   "name": "python",
   "nbconvert_exporter": "python",
   "pygments_lexer": "ipython3",
   "version": "3.12.2"
  }
 },
 "nbformat": 4,
 "nbformat_minor": 5
}
