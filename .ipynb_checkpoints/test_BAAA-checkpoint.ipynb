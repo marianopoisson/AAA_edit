{
 "cells": [
  {
   "cell_type": "code",
   "execution_count": 1,
   "id": "224bdac0-71c2-46b4-af35-581db4f2ae34",
   "metadata": {},
   "outputs": [],
   "source": [
    "import checkBAAA\n",
    "import glob"
   ]
  },
  {
   "cell_type": "code",
   "execution_count": 159,
   "id": "c9daf8a1-fd1a-4f2d-95f3-fedbcb7e3187",
   "metadata": {},
   "outputs": [
    {
     "name": "stdout",
     "output_type": "stream",
     "text": [
      "*******************************************\n",
      "**** CRAAA TEST SCRIPT (File articulo-baaa65.tex) ****\n",
      "*******************************************\n",
      "\u001b[32m bad author: J. V.\u001b[0m\n",
      "\u001b[32m Check apellido -> González Pires\u001b[0m\n",
      "\u001b[32m bad author: M. V.\u001b[0m\n",
      "\u001b[97m  bad affil : Facultad de Ciencias Astron\\'omicas y Geof{\\'\\i}sicas, UNLP, Argentina \u001b[0m\n",
      "\u001b[97m  suggestion: Facultad de Ciencias Astron{\\'o}micas y Geof{\\'i}sicas, UNLP, Argentina\u001b[0m\n",
      "\n",
      "\u001b[97m  bad affil : Instituto Argentino de Radioastronom\\'ia, CONICET--CICPBA--UNLP, Argentina \u001b[0m\n",
      "\u001b[97m  suggestion: Instituto Argentino de Radioastronom{\\'i}a, CONICET--CICPBA--UNLP, Argentina\u001b[0m\n",
      "\n",
      "\u001b[97m  bad affil : Instituto de Astronom{\\'\\i}a y F{\\'\\i}sica del Espacio, CONICET--UBA, Argentina \u001b[0m\n",
      "\u001b[97m  suggestion: Instituto de Astronom{\\'i}a y F{\\'i}sica del Espacio, CONICET--UBA, Argentina\u001b[0m\n",
      "\n",
      "\u001b[97m  bad affil : Observatorio Astron\\'omico de C\\'ordoba, UNC, Argentina \u001b[0m\n",
      "\u001b[97m  suggestion: Observatorio Astron{\\'o}mico de C{\\'o}rdoba, UNC, Argentina\u001b[0m\n",
      "\n",
      "\u001b[97m  bad affil : Instituto de Astronom\\'ia Te\\'orica y Experimental, CONICET--UNC, Argentina \u001b[0m\n",
      "\u001b[97m  suggestion: Instituto de Astronom{\\'i}a Te{\\'o}rica y Experimental, CONICET--UNC, Argentina\u001b[0m\n",
      "\n",
      "\u001b[97m  bad affil : Consejo Nacional de Investigaciones Cient\\'ificas y T\\'ecnicas, Argentina \u001b[0m\n",
      "\u001b[97m  suggestion: Consejo Nacional de Investigaciones Cient{\\'i}ficas y T{\\'e}cnicas, Argentina\u001b[0m\n",
      "\n",
      "\u001b[33m  bad keyword: galaxies: individual (M31) \u001b[0m\n",
      "\u001b[33m  suggestion : galaxies: individual\u001b[0m\n",
      "\n"
     ]
    }
   ],
   "source": [
    "%run checkBAAA ./test/articulo-baaa65.tex"
   ]
  },
  {
   "cell_type": "code",
   "execution_count": 28,
   "id": "37b1fca8-5129-4ec8-8e1c-59965c44f8bf",
   "metadata": {},
   "outputs": [
    {
     "data": {
      "text/plain": [
       "{'contriblanguage': 'Castellano',\n",
       " 'contribtype': 'Invited report Sérsic Prize',\n",
       " 'thematicarea': 'O. Otros',\n",
       " 'title': \"Art{\\\\'\\\\i}culo ejemplo para publicaciones en el BAAA Vol. 65\",\n",
       " 'author': {'name_000': 'J. V.',\n",
       "  'surname_000': \"Gonz\\\\'alez Pires\",\n",
       "  'name_001': 'A.',\n",
       "  'surname_001': 'Otro',\n",
       "  'name_002': 'M. V.',\n",
       "  'surname_002': 'Tercero',\n",
       "  'name_003': 'R.E.',\n",
       "  'surname_003': 'Cuarto'},\n",
       " 'institute': {'key_000': \"Facultad de Ciencias Astron\\\\'omicas y Geof{\\\\'\\\\i}sicas, UNLP, Argentina\",\n",
       "  'key_001': \"Instituto Argentino de Radioastronom\\\\'ia, CONICET--CICPBA--UNLP, Argentina\",\n",
       "  'key_002': \"Instituto de Astronom{\\\\'\\\\i}a y F{\\\\'\\\\i}sica del Espacio, CONICET--UBA, Argentina\",\n",
       "  'key_003': \"Observatorio Astron\\\\'omico de C\\\\'ordoba, UNC, Argentina\",\n",
       "  'key_004': \"Instituto de Astronom\\\\'ia Te\\\\'orica y Experimental, CONICET--UNC, Argentina\",\n",
       "  'key_005': \"Consejo Nacional de Investigaciones Cient\\\\'ificas y T\\\\'ecnicas, Argentina\"},\n",
       " 'abstract': 'This is the author guide to prepare articles for the \\\\textit{Boletín de la Asociación Argentina de Astronomía} (BAAA), intended also as a macro for Volume 65. Please read carefully its content to prevent the most frequent style errors. Please also read carefully the comments preceded by the symbol ``\\\\%\"in the \\\\LaTeX{} source file of this document. This is the only format accepted for article submission, that must be done via the BAAA Manuscript Management System (SiGMa).',\n",
       " 'keywords': {'key_000': 'Sun: abundances',\n",
       "  'key_001': 'stars: early-type',\n",
       "  'key_002': 'Galaxy: structure',\n",
       "  'key_003': 'galaxies: individual (M31)'},\n",
       " 'subtitle': False,\n",
       " 'num_authors': 8}"
      ]
     },
     "execution_count": 28,
     "metadata": {},
     "output_type": "execute_result"
    }
   ],
   "source": [
    "m"
   ]
  },
  {
   "cell_type": "code",
   "execution_count": 2,
   "id": "b6a7c08c-dc5d-4f2b-b3b5-ef66a229e063",
   "metadata": {},
   "outputs": [],
   "source": [
    "import os, sys, tarfile\n",
    "\n",
    "def extract(tar_url, extract_path='./TGZs-iniciales/extracted/'):\n",
    "    print(tar_url)\n",
    "    tar = tarfile.open(tar_url, 'r')\n",
    "    for item in tar:\n",
    "        tar.extract(item, extract_path)\n",
    "        if item.name.find(\".tgz\") != -1 or item.name.find(\".tar\") != -1:\n",
    "            extract(item.name, \"./\" + item.name[:item.name.rfind('/')])\n"
   ]
  },
  {
   "cell_type": "code",
   "execution_count": null,
   "id": "310ba783-6750-4cf1-93dc-7755c03bcb2f",
   "metadata": {},
   "outputs": [],
   "source": [
    "try:\n",
    "\n",
    "    extract(sys.argv[1] + '.tgz')\n",
    "    print 'Done.'\n",
    "except:\n",
    "    name = os.path.basename(sys.argv[0])\n",
    "    print name[:name.rfind('.')], '<filename>'"
   ]
  },
  {
   "cell_type": "code",
   "execution_count": 3,
   "id": "75e6cfe3-e555-4d97-a2c0-115c4c188e7a",
   "metadata": {},
   "outputs": [],
   "source": [
    "lista=[]\n",
    "for st in glob.glob('./TGZs-iniciales/*.tgz'):\n",
    "    lista.append(st[17:20])"
   ]
  },
  {
   "cell_type": "code",
   "execution_count": 178,
   "id": "6ad56bd0-fa19-4abe-a64c-59508c15753e",
   "metadata": {},
   "outputs": [
    {
     "name": "stdout",
     "output_type": "stream",
     "text": [
      "./TGZs-iniciales\\874_v3.tgz\n",
      "*******************************************\n",
      "**** CRAAA TEST SCRIPT (File 874.tex) ****\n",
      "*******************************************\n",
      "\u001b[32m bad last-author separator: \\&\u001b[0m\n",
      "\u001b[32m bad author: D. C.\u001b[0m\n",
      "\u001b[97m  bad affil : Museo del Observatorio Astron\\'omico de C\\'ordoba, UNC, Argentina \u001b[0m\n",
      "\u001b[97m  suggestion: Museo del Observatorio Astron{\\'o}mico de C{\\'o}rdoba, UNC, Argentina\u001b[0m\n",
      "\n",
      "\u001b[97m  bad affil : Centro de Investigaciones de la Facultad de Filosof{\\'\\i}a y Humanidades, UNC, Argentina \u001b[0m\n",
      "\u001b[97m  suggestion: Facultad de Filosof{\\'\\i}a y Humanidades, UNC, Argentina\u001b[0m\n",
      "\n",
      "\u001b[97m  bad affil : Consejo Nacional de Investigaciones Cient{\\'\\i}ficas y T\\'ecnicas, CONICET, Argentina \u001b[0m\n",
      "\u001b[97m  suggestion: Consejo Nacional de Investigaciones Cient{\\'i}ficas y T{\\'e}cnicas, Argentina\u001b[0m\n",
      "\n",
      "\u001b[33m  bad keyword: History and philosophy of astronomy \u001b[0m\n",
      "\u001b[33m  suggestion : history and philosophy of astronomy\u001b[0m\n",
      "\n",
      "# de citas:  11\n",
      "1  {{Smith} ...,  {1993}\n",
      "2  {{van Maanen} ...,  {1916}\n",
      "3  {{Paolantonio} ...,  {2022}\n",
      "4 {Perrine ...,  {1931}\n",
      "5 {Zimmer ...,  {1931}\n",
      "6  {{Sérsic} ...,  1968\n",
      "7  {{Roberts} ...,  1899\n",
      "8  {{Hetherington} ...,  1970\n",
      "9  {{Struve} ...,  1960\n",
      "10  {{Trimble} ...,  1995\n",
      "11  {{Hoskin} ...,  1976\n",
      "./TGZs-iniciales\\876_v3.tgz\n",
      "*******************************************\n",
      "**** CRAAA TEST SCRIPT (File 876.tex) ****\n",
      "*******************************************\n",
      "\u001b[97m  bad affil : Departamento de Matem\\'atica y F{\\'\\i}sica Aplicadas, Universidad Cat\\'olica de la Sant{\\'\\i}sima Concepci\\'on, Chile \u001b[0m\n",
      "\u001b[97m  suggestion: Departamento de Astronom{\\'\\i}a, Universidad de Concepci\\'on, Chile\u001b[0m\n",
      "\n",
      "# de citas:  22\n",
      "1  {{Ribas} ...,  2023\n",
      "2  {{Boisse} ...,  2011\n",
      "3  {{Gorrini} ...,  2022\n",
      "4  {{Su{\\'a}rez Mascare{\\~n}o} ...,  2015\n",
      "5  {{Robertson} ...,  2014\n",
      "6  {{Tuomi} ...,  2011\n",
      "7  {{Mayor} ...,  2003\n",
      "8  {{Astudillo-Defru} ...,  2017\n",
      "9  {{Gomes da Silva} ...,  2011\n",
      "10  {{Astudillo-Defru} ...,  2017\n",
      "11  {{Rajpaul} ...,  2015\n",
      "12  {{Faria} ...,  2016\n",
      "13  {{Camacho} ...,  2023\n",
      "14  {{Fulton} ...,  2018\n",
      "15  {{Zechmeister} ...,  2009\n",
      "16  {{Barrag{\\'a}n} ...,  2022\n",
      "17  {{Mortier} ...,  2017\n",
      "18  {{Bonfils} ...,  2005\n",
      "19  {{Udry} ...,  2007\n",
      "20  {{Mayor} ...,  2009\n",
      "21  {{Vogt} ...,  2010\n",
      "22  {{Butler} ...,  2017\n",
      "./TGZs-iniciales\\880_v3.tgz\n",
      "*******************************************\n",
      "**** CRAAA TEST SCRIPT (File 880.tex) ****\n",
      "*******************************************\n",
      "\u001b[97m  bad affil : Instituto de Astrof\\'isica de La Plata, CONICET--UNLP, Argentina \u001b[0m\n",
      "\u001b[97m  suggestion: Instituto de Astrof{\\'i}sica de La Plata, CONICET--UNLP, Argentina\u001b[0m\n",
      "\n",
      "\u001b[97m  bad affil : Departamento de Espectroscop\\'ia, Facultad de Ciencias Astron\\'omicas y Geof\\'isicas, UNLP, Argentina \u001b[0m\n",
      "\u001b[97m  suggestion: Departamento de Espectroscop{\\'i}a, Facultad de Ciencias Astron{\\'o}micas y Geof{\\'i}sicas, UNLP, Argentina\u001b[0m\n",
      "\n",
      "\u001b[97m  bad affil : Laboratorio de Investigaci\\'on Cient\\'ifica en Astronom\\'ia, UNRN, Argentina \u001b[0m\n",
      "\u001b[97m  suggestion: Centro de Interpretaci\\'on Cient{\\'\\i}fica, Observatorio Astron\\'omico de C\\'ordoba, UNC, Argentina\u001b[0m\n",
      "\n",
      "\u001b[97m  bad affil : Instituto de F\\'isica y Astronom\\'ia, Facultad de Ciencias, Universidad de Valpara\\'iso, Chile \u001b[0m\n",
      "\u001b[97m  suggestion: Instituto de F{\\'i}sica y Astronom{\\'i}a, Facultad de Ciencias, Universidad de Valpara{\\'i}so, Chile\u001b[0m\n",
      "\n",
      "# de citas:  17\n",
      "1  {{Arcos} ...,  2017\n",
      "2  {{Carciofi} ...,  2006\n",
      "3  {{Carciofi} ...,  2008\n",
      "4  {{Chojnowski} ...,  2015\n",
      "5  {{Cochetti} ...,  2023\n",
      "6  {{Granada} ...,  2010\n",
      "7  {{Hony} ...,  2000\n",
      "8  {{Klement} ...,  2017\n",
      "9  {{Lee} ...,  1991\n",
      "10  {{Lenorzer} ...,  2002\n",
      "11  {{Marr} ...,  2021\n",
      "12  {{Mennickent} ...,  2009\n",
      "13  {{Miroshnichenko} ...,  2003\n",
      "14  {{Rivinius} ...,  2013\n",
      "15  {{Sabogal} ...,  2017\n",
      "16  {{Okazaki} ...,  2002\n",
      "17  {{Vieira} ...,  2017\n",
      "./TGZs-iniciales\\893_v4.tgz\n",
      "*******************************************\n",
      "**** CRAAA TEST SCRIPT (File 893.tex) ****\n",
      "*******************************************\n",
      "\u001b[97m  bad affil : Institut f\\\"ur Sonnenphysik (KIS), Freiburg, Alemania \u001b[0m\n",
      "\u001b[97m  suggestion: Leibniz-Institut f\\\"ur Astrophysik Potsdam, Alemania\u001b[0m\n",
      "\n",
      "\u001b[97m  bad affil : Institute of Space Sciences (ICE-CSIC), Campus UAB, Espa\\~na \u001b[0m\n",
      "\u001b[97m  suggestion: Institute of Space Sciences, IEEC--CSIC, Espa\\~A\\ensuremath{\\pm}a\u001b[0m\n",
      "\n",
      "\u001b[33m  bad keyword: Stars: magnetic field \u001b[0m\n",
      "\u001b[33m  suggestion : stars: magnetic field\u001b[0m\n",
      "\n",
      "# de citas:  17\n",
      "1  {{K{\\\"a}pyl{\\\"a}} ...,  2023\n",
      "2  {{Brandenburg} ...,  2007\n",
      "3  {{Winters} ...,  2019\n",
      "4  {{Kochukhov} ...,  2021\n",
      "5  {{Chabrier} ...,  1997\n",
      "6  {{Brown} ...,  2020\n",
      "7  {{Ortiz-Rodr{\\'\\i}guez} ...,  2023\n",
      "8  {{Navarrete} ...,  2018\n",
      "9  {{Navarrete} ...,  2020\n",
      "10  {{K{\\\"a}pyl{\\\"a}} ...,  2022\n",
      "11  {{Pencil Code Collaboration} and {Brandenburg} ...,  2021\n",
      "12  {{K{\\\"a}pyl{\\\"a}} ...,  2021\n",
      "13  {{Dobler} ...,  2006\n",
      "14  {{K{\\\"a}pyl{\\\"a}} ...,  2020\n",
      "15  {{Paxton} ...,  2019\n",
      "16  {{Warnecke} ...,  2016\n",
      "17  {{Brandenburg} ...,  2000\n"
     ]
    }
   ],
   "source": [
    "for name in lista:\n",
    "    extract(glob.glob('./TGZs-iniciales/'+name+'*.tgz')[0])\n",
    "    tex=glob.glob('./TGZs-iniciales/extracted/'+name+'.tex')\n",
    "    bib=glob.glob('./TGZs-iniciales/extracted/*.bib')\n",
    "    bibf = open(bib[0])\n",
    "    bibtex = bibf.read()\n",
    "    bibf.close()\n",
    "\n",
    "    \n",
    "    if len(tex) >1 :\n",
    "        print('multiple tex')\n",
    "    if len(tex) ==0:\n",
    "        print('no tex found')\n",
    "   # sys.argv[1]=tex\n",
    "    %run checkBAAA {tex[0]}\n",
    "    RecoverCites(text,bib=bib[0])\n",
    "    files = glob.glob('./TGZs-iniciales/extracted/*')\n",
    "    for f in files:\n",
    "        os.remove(f)\n",
    "    "
   ]
  },
  {
   "cell_type": "code",
   "execution_count": 113,
   "id": "dee0e092-76bb-4f45-9528-5b021ba49dce",
   "metadata": {
    "scrolled": true
   },
   "outputs": [
    {
     "data": {
      "text/plain": [
       "18"
      ]
     },
     "execution_count": 113,
     "metadata": {},
     "output_type": "execute_result"
    }
   ],
   "source": [
    "len(bibtex.split('@'))"
   ]
  },
  {
   "cell_type": "code",
   "execution_count": 5,
   "id": "e05f4f55-dbe5-444e-a5f4-76ef972b8beb",
   "metadata": {},
   "outputs": [],
   "source": [
    "keys.append('citep')"
   ]
  },
  {
   "cell_type": "code",
   "execution_count": 6,
   "id": "7d2ad4b2-e813-4d74-a893-4cb2371b3e04",
   "metadata": {},
   "outputs": [
    {
     "data": {
      "text/plain": [
       "['contriblanguage',\n",
       " 'contribtype',\n",
       " 'thematicarea',\n",
       " 'title',\n",
       " 'author',\n",
       " 'abstract',\n",
       " 'subtitle',\n",
       " 'keywords',\n",
       " 'institute',\n",
       " 'citep']"
      ]
     },
     "execution_count": 6,
     "metadata": {},
     "output_type": "execute_result"
    }
   ],
   "source": [
    "keys"
   ]
  },
  {
   "cell_type": "code",
   "execution_count": 7,
   "id": "a07328d9-74fb-4910-a970-ce82c029e418",
   "metadata": {},
   "outputs": [],
   "source": [
    "m2=return_metadata(text,'title')"
   ]
  },
  {
   "cell_type": "code",
   "execution_count": 177,
   "id": "692b4e15-7127-441d-a104-635cbe79040e",
   "metadata": {
    "scrolled": true
   },
   "outputs": [],
   "source": [
    "#recover cites from text and bib\n",
    "\n",
    "def RecoverCites(text, bib=bib):\n",
    "    cites=[]\n",
    "    for i in text:\n",
    "        x=i.find(\"\\\\cite\")\n",
    "        if x >=0:\n",
    "            cites.append(i)\n",
    "    ref=[]\n",
    "    for c in cites:\n",
    "        start = 0\n",
    "        \n",
    "        while start>=0:\n",
    "            start = c.find(\"\\\\cite\", start)\n",
    "            if start ==-1:\n",
    "                continue\n",
    "            j=c[start:].find(\"{\")\n",
    "            k=c[start:].find(\"}\")\n",
    "            ref.append(c[start+j+1:start+k])\n",
    "            start += 5   \n",
    "\n",
    "    ref0=[]\n",
    "    for i in ref:\n",
    "        x=i.split(',')\n",
    "        for h in x:\n",
    "            ref0.append(h.replace(' ',''))\n",
    "    \n",
    "    ref=ref0\n",
    "    \n",
    "    bib=glob.glob(bib)\n",
    "    f = open(bib[0],'r',encoding=encoding)\n",
    "    bibtex = f.read().split('@')\n",
    "    f.close()\n",
    "    \n",
    "    \n",
    "    dcites=[]\n",
    "\n",
    "    for i in ref:\n",
    "        j=0\n",
    "        for c in bibtex:\n",
    "            j=j+1\n",
    "            x=c.find(i)\n",
    "            if x >0:\n",
    "                dcites.append(j)\n",
    "    print('# de citas: ',len(set(dcites)))\n",
    "    \n",
    "    for p,d in enumerate(set(dcites)):\n",
    "        bb=bibtex[d-1].split('\\n')\n",
    "        y=bibtex[d-1].find('year')\n",
    "        x=bibtex[d-1].find('thor')\n",
    "        startau=bibtex[d-1].find('=',x)\n",
    "        endau=bibtex[d-1].find(',',x)\n",
    "        \n",
    "        starty=bibtex[d-1].find('=',y)\n",
    "        endy=bibtex[d-1].find(',',y)\n",
    "    \n",
    "        print(p+1,bibtex[d-1][startau+1:endau],'...,',bibtex[d-1][starty+1:endy])"
   ]
  },
  {
   "cell_type": "code",
   "execution_count": 161,
   "id": "16876151-87e6-4a27-bf25-9a247578232f",
   "metadata": {
    "scrolled": true
   },
   "outputs": [
    {
     "data": {
      "text/plain": [
       "['\\n',\n",
       " '%%%%%%%%%%%%%%%%%%%%%%%%%%%%%%%%%%%%%%%%%%%%%%%%%%%%%%%%%%%%%%%%%%%%%%%%%%%%%%\\n',\n",
       " '%  ************************** AVISO IMPORTANTE **************************    %\\n',\n",
       " '%                                                                            %\\n',\n",
       " '% Éste es un documento de ayuda para los autores que deseen enviar           %\\n',\n",
       " '% trabajos para su consideración en el Boletín de la Asociación Argentina    %\\n',\n",
       " '% de Astronomía.                                                             %\\n',\n",
       " '%                                                                            %\\n',\n",
       " '% Los comentarios en este archivo contienen instrucciones sobre el formato   %\\n',\n",
       " '% obligatorio del mismo, que complementan los instructivos web y PDF.        %\\n',\n",
       " '% Por favor léalos.                                                          %\\n',\n",
       " '%                                                                            %\\n',\n",
       " '%  -No borre los comentarios en este archivo.                                %\\n',\n",
       " '%  -No puede usarse \\\\newcommand o definiciones personalizadas.               %\\n',\n",
       " '%  -SiGMa no acepta artículos con errores de compilación. Antes de enviarlo  %\\n',\n",
       " '%   asegúrese que los cuatro pasos de compilación (pdflatex/bibtex/pdflatex/ %\\n',\n",
       " '%   pdflatex) no arrojan errores en su terminal. Esta es la causa más        %\\n',\n",
       " '%   frecuente de errores de envío. Los mensajes de \"warning\" en cambio son   %\\n',\n",
       " '%   en principio ignorados por SiGMa.                                        %\\n',\n",
       " '%                                                                            %\\n',\n",
       " '%%%%%%%%%%%%%%%%%%%%%%%%%%%%%%%%%%%%%%%%%%%%%%%%%%%%%%%%%%%%%%%%%%%%%%%%%%%%%%\\n',\n",
       " '\\n',\n",
       " '%%%%%%%%%%%%%%%%%%%%%%%%%%%%%%%%%%%%%%%%%%%%%%%%%%%%%%%%%%%%%%%%%%%%%%%%%%%%%%\\n',\n",
       " '%  ************************** IMPORTANT NOTE ******************************  %\\n',\n",
       " '%                                                                            %\\n',\n",
       " '%  This is a help file for authors who are preparing manuscripts to be       %\\n',\n",
       " '%  considered for publication in the Boletín de la Asociación Argentina      %\\n',\n",
       " '%  de Astronomía.                                                            %\\n',\n",
       " '%                                                                            %\\n',\n",
       " \"%  The comments in this file give instructions about the manuscripts'        %\\n\",\n",
       " '%  mandatory format, complementing the instructions distributed in the BAAA  %\\n',\n",
       " '%  web and in PDF. Please read them carefully                                %\\n',\n",
       " '%                                                                            %\\n',\n",
       " '%  -Do not delete the comments in this file.                                 %\\n',\n",
       " '%  -Using \\\\newcommand or custom definitions is not allowed.                  %\\n',\n",
       " '%  -SiGMa does not accept articles with compilation errors. Before submission%\\n',\n",
       " '%   make sure the four compilation steps (pdflatex/bibtex/pdflatex/pdflatex) %\\n',\n",
       " '%   do not produce errors in your terminal. This is the most frequent cause  %\\n',\n",
       " '%   of submission failure. \"Warning\" messsages are in principle bypassed     %\\n',\n",
       " '%   by SiGMa.                                                                %\\n',\n",
       " '%                                                                            % \\n',\n",
       " '%%%%%%%%%%%%%%%%%%%%%%%%%%%%%%%%%%%%%%%%%%%%%%%%%%%%%%%%%%%%%%%%%%%%%%%%%%%%%%\\n',\n",
       " '\\n',\n",
       " '\\\\documentclass[baaa]{baaa}\\n',\n",
       " '\\n',\n",
       " '%%%%%%%%%%%%%%%%%%%%%%%%%%%%%%%%%%%%%%%%%%%%%%%%%%%%%%%%%%%%%%%%%%%%%%%%%%%%%%\\n',\n",
       " '%  ******************** Paquetes Latex / Latex Packages *******************  %\\n',\n",
       " '%                                                                            %\\n',\n",
       " '%  -Por favor NO MODIFIQUE estos comandos.                                   %\\n',\n",
       " '%  -Si su editor de texto no codifica en UTF8, modifique el paquete          %\\n',\n",
       " \"%  'inputenc'.                                                               %\\n\",\n",
       " '%                                                                            %\\n',\n",
       " '%  -Please DO NOT CHANGE these commands.                                     %\\n',\n",
       " '%  -If your text editor does not encodes in UTF8, please change the          %\\n',\n",
       " \"%  'inputec' package                                                         %\\n\",\n",
       " '%%%%%%%%%%%%%%%%%%%%%%%%%%%%%%%%%%%%%%%%%%%%%%%%%%%%%%%%%%%%%%%%%%%%%%%%%%%%%%\\n',\n",
       " ' \\n',\n",
       " '\\\\usepackage[pdftex]{hyperref}\\n',\n",
       " '\\\\usepackage{subfigure}\\n',\n",
       " '\\\\usepackage{natbib}\\n',\n",
       " '\\\\usepackage{helvet,soul}\\n',\n",
       " '\\\\usepackage[font=small]{caption}\\n',\n",
       " '\\n',\n",
       " '%%%%%%%%%%%%%%%%%%%%%%%%%%%%%%%%%%%%%%%%%%%%%%%%%%%%%%%%%%%%%%%%%%%%%%%%%%%%%%\\n',\n",
       " '%  *************************** Idioma / Language **************************  %\\n',\n",
       " '%                                                                            %\\n',\n",
       " '%  -Ver en la sección 3 \"Idioma\" para mas información                        %\\n',\n",
       " '%  -Seleccione el idioma de su contribución (opción numérica).               %\\n',\n",
       " '%  -Todas las partes del documento (titulo, texto, figuras, tablas, etc.)    %\\n',\n",
       " '%   DEBEN estar en el mismo idioma.                                          %\\n',\n",
       " '%                                                                            %\\n',\n",
       " '%  -Select the language of your contribution (numeric option)                %\\n',\n",
       " '%  -All parts of the document (title, text, figures, tables, etc.) MUST  be  %\\n',\n",
       " '%   in the same language.                                                    %\\n',\n",
       " '%                                                                            %\\n',\n",
       " '%  0: Castellano / Spanish                                                   %\\n',\n",
       " '%  1: Inglés / English                                                       %\\n',\n",
       " '%%%%%%%%%%%%%%%%%%%%%%%%%%%%%%%%%%%%%%%%%%%%%%%%%%%%%%%%%%%%%%%%%%%%%%%%%%%%%%\\n',\n",
       " '\\n',\n",
       " '\\\\contriblanguage{0}\\n',\n",
       " '\\n',\n",
       " '%%%%%%%%%%%%%%%%%%%%%%%%%%%%%%%%%%%%%%%%%%%%%%%%%%%%%%%%%%%%%%%%%%%%%%%%%%%%%%\\n',\n",
       " '%  *************** Tipo de contribución / Contribution type ***************  %\\n',\n",
       " '%                                                                            %\\n',\n",
       " '%  -Seleccione el tipo de contribución solicitada (opción numérica).         %\\n',\n",
       " '%                                                                            %\\n',\n",
       " '%  -Select the requested contribution type (numeric option)                  %\\n',\n",
       " '%                                                                            %\\n',\n",
       " '%  1: Artículo de investigación / Research article                           %\\n',\n",
       " '%  2: Artículo de revisión invitado / Invited review                         %\\n',\n",
       " '%  3: Mesa redonda / Round table                                             %\\n',\n",
       " '%  4: Artículo invitado  Premio Varsavsky / Invited report Varsavsky Prize   %\\n',\n",
       " '%  5: Artículo invitado Premio Sahade / Invited report Sahade Prize          %\\n',\n",
       " '%  6: Artículo invitado Premio Sérsic / Invited report Sérsic Prize          %\\n',\n",
       " '%%%%%%%%%%%%%%%%%%%%%%%%%%%%%%%%%%%%%%%%%%%%%%%%%%%%%%%%%%%%%%%%%%%%%%%%%%%%%%\\n',\n",
       " '\\n',\n",
       " '\\\\contribtype{6}\\n',\n",
       " '\\n',\n",
       " '%%%%%%%%%%%%%%%%%%%%%%%%%%%%%%%%%%%%%%%%%%%%%%%%%%%%%%%%%%%%%%%%%%%%%%%%%%%%%%\\n',\n",
       " '%  ********************* Área temática / Subject area *********************  %\\n',\n",
       " '%                                                                            %\\n',\n",
       " '%  -Seleccione el área temática de su contribución (opción numérica).        %\\n',\n",
       " '%                                                                            %\\n',\n",
       " '%  -Select the subject area of your contribution (numeric option)            %\\n',\n",
       " '%                                                                            %\\n',\n",
       " '%  1 : SH    - Sol y Heliosfera / Sun and Heliosphere                        %\\n',\n",
       " '%  2 : SSE   - Sistema Solar y Extrasolares  / Solar and Extrasolar Systems  %\\n',\n",
       " '%  3 : AE    - Astrofísica Estelar / Stellar Astrophysics                    %\\n',\n",
       " '%  4 : SE    - Sistemas Estelares / Stellar Systems                          %\\n',\n",
       " '%  5 : MI    - Medio Interestelar / Interstellar Medium                      %\\n',\n",
       " '%  6 : EG    - Estructura Galáctica / Galactic Structure                     %\\n',\n",
       " '%  7 : AEC   - Astrofísica Extragaláctica y Cosmología /                      %\\n',\n",
       " '%              Extragalactic Astrophysics and Cosmology                      %\\n',\n",
       " '%  8 : OCPAE - Objetos Compactos y Procesos de Altas Energías /              %\\n',\n",
       " '%              Compact Objetcs and High-Energy Processes                     %\\n',\n",
       " '%  9 : ICSA  - Instrumentación y Caracterización de Sitios Astronómicos\\n',\n",
       " '%              Instrumentation and Astronomical Site Characterization        %\\n',\n",
       " '% 10 : AGE   - Astrometría y Geodesia Espacial\\n',\n",
       " '% 11 : ASOC  - Astronomía y Sociedad                                             %\\n',\n",
       " '% 12 : O     - Otros\\n',\n",
       " '%\\n',\n",
       " '%%%%%%%%%%%%%%%%%%%%%%%%%%%%%%%%%%%%%%%%%%%%%%%%%%%%%%%%%%%%%%%%%%%%%%%%%%%%%%\\n',\n",
       " '\\n',\n",
       " '\\\\thematicarea{12}\\n',\n",
       " '\\n',\n",
       " '%%%%%%%%%%%%%%%%%%%%%%%%%%%%%%%%%%%%%%%%%%%%%%%%%%%%%%%%%%%%%%%%%%%%%%%%%%%%%%\\n',\n",
       " '%  *************************** Título / Title *****************************  %\\n',\n",
       " '%                                                                            %\\n',\n",
       " '%  -DEBE estar en minúsculas (salvo la primer letra) y ser conciso.          %\\n',\n",
       " '%  -Para dividir un título largo en más líneas, utilizar el corte            %\\n',\n",
       " '%   de línea (\\\\\\\\).                                                           %\\n',\n",
       " '%                                                                            %\\n',\n",
       " '%  -It MUST NOT be capitalized (except for the first letter) and be concise. %\\n',\n",
       " '%  -In order to split a long title across two or more lines,                 %\\n',\n",
       " '%   please use linebreaks (\\\\\\\\).                                              %\\n',\n",
       " '%%%%%%%%%%%%%%%%%%%%%%%%%%%%%%%%%%%%%%%%%%%%%%%%%%%%%%%%%%%%%%%%%%%%%%%%%%%%%%\\n',\n",
       " '% Dates\\n',\n",
       " '% Only for editors\\n',\n",
       " '\\\\received{\\\\ldots}\\n',\n",
       " '\\\\accepted{\\\\ldots}\\n',\n",
       " '\\n',\n",
       " '\\n',\n",
       " '\\n',\n",
       " '\\n',\n",
       " '%%%%%%%%%%%%%%%%%%%%%%%%%%%%%%%%%%%%%%%%%%%%%%%%%%%%%%%%%%%%%%%%%%%%%%%%%%%%%%\\n',\n",
       " '\\n',\n",
       " '\\n',\n",
       " '\\n',\n",
       " '\\\\title{Artículo ejemplo para publicaciones en el BAAA Vol. 65}\\n',\n",
       " '\\n',\n",
       " '%%%%%%%%%%%%%%%%%%%%%%%%%%%%%%%%%%%%%%%%%%%%%%%%%%%%%%%%%%%%%%%%%%%%%%%%%%%%%%\\n',\n",
       " '%  ******************* Título encabezado / Running title ******************  %\\n',\n",
       " '%                                                                            %\\n',\n",
       " '%  -Seleccione un título corto para el encabezado de las páginas pares.      %\\n',\n",
       " '%                                                                            %\\n',\n",
       " '%  -Select a short title to appear in the header of even pages.              %\\n',\n",
       " '%%%%%%%%%%%%%%%%%%%%%%%%%%%%%%%%%%%%%%%%%%%%%%%%%%%%%%%%%%%%%%%%%%%%%%%%%%%%%%\\n',\n",
       " '\\n',\n",
       " '\\\\titlerunning{Macro BAAA65 con instrucciones de estilo}\\n',\n",
       " '\\n',\n",
       " '%%%%%%%%%%%%%%%%%%%%%%%%%%%%%%%%%%%%%%%%%%%%%%%%%%%%%%%%%%%%%%%%%%%%%%%%%%%%%%\\n',\n",
       " '%  ******************* Lista de autores / Authors list ********************  %\\n',\n",
       " '%                                                                            %\\n',\n",
       " '%  -Ver en la sección 3 \"Autores\" para mas información                       % \\n',\n",
       " '%  -Los autores DEBEN estar separados por comas, excepto el último que       %\\n',\n",
       " '%   se separar con \\\\&.                                                       %\\n',\n",
       " '%  -El formato de DEBE ser: S.W. Hawking (iniciales luego apellidos, sin     %\\n',\n",
       " '%   comas ni espacios entre las iniciales).                                  %\\n',\n",
       " '%                                                                            %\\n',\n",
       " '%  -Authors MUST be separated by commas, except the last one that is         %\\n',\n",
       " '%   separated using \\\\&.                                                      %\\n',\n",
       " '%  -The format MUST be: S.W. Hawking (initials followed by family name,      %\\n',\n",
       " '%   avoid commas and blanks between initials).                               %\\n',\n",
       " '%%%%%%%%%%%%%%%%%%%%%%%%%%%%%%%%%%%%%%%%%%%%%%%%%%%%%%%%%%%%%%%%%%%%%%%%%%%%%%\\n',\n",
       " '\\n',\n",
       " '\\\\author{\\n',\n",
       " 'J. V. González Pires\\\\inst{1},\\n',\n",
       " 'A. Otro\\\\inst{2,3},\\n',\n",
       " 'M. V. Tercero\\\\inst{4,5}\\n',\n",
       " '\\\\&\\n',\n",
       " 'R.E. Cuarto\\\\inst{5,6}\\n',\n",
       " '}\\n',\n",
       " '\\n',\n",
       " '\\\\authorrunning{González et al.}\\n',\n",
       " '\\n',\n",
       " '%%%%%%%%%%%%%%%%%%%%%%%%%%%%%%%%%%%%%%%%%%%%%%%%%%%%%%%%%%%%%%%%%%%%%%%%%%%%%%\\n',\n",
       " '%  **************** E-mail de contacto / Contact e-mail *******************  %\\n',\n",
       " '%                                                                            %\\n',\n",
       " '%  -Por favor provea UNA ÚNICA dirección de e-mail de contacto.              %\\n',\n",
       " '%                                                                            %\\n',\n",
       " '%  -Please provide A SINGLE contact e-mail address.                          %\\n',\n",
       " '%%%%%%%%%%%%%%%%%%%%%%%%%%%%%%%%%%%%%%%%%%%%%%%%%%%%%%%%%%%%%%%%%%%%%%%%%%%%%%\\n',\n",
       " '\\n',\n",
       " '\\\\contact{editor.baaa@gmail.com}\\n',\n",
       " '\\n',\n",
       " '%%%%%%%%%%%%%%%%%%%%%%%%%%%%%%%%%%%%%%%%%%%%%%%%%%%%%%%%%%%%%%%%%%%%%%%%%%%%%%\\n',\n",
       " '%  ********************* Afiliaciones / Affiliations **********************  %\\n',\n",
       " '%                                                                            %\\n',\n",
       " '%  -La lista de afiliaciones debe seguir el formato especificado en la       %\\n',\n",
       " '%   sección 3.4 \"Afiliaciones\".                                              %\\n',\n",
       " '%                                                                            %\\n',\n",
       " '%  -The list of affiliations must comply with the format specified in        %          \\n',\n",
       " '%   section 3.4 \"Afiliaciones\".                                              %\\n',\n",
       " '%%%%%%%%%%%%%%%%%%%%%%%%%%%%%%%%%%%%%%%%%%%%%%%%%%%%%%%%%%%%%%%%%%%%%%%%%%%%%%\\n',\n",
       " '\\n',\n",
       " '\\\\institute{\\n',\n",
       " \"Facultad de Ciencias Astron\\\\'omicas y Geof{\\\\'\\\\i}sicas, UNLP, Argentina\\\\and   \\n\",\n",
       " \"Instituto Argentino de Radioastronom\\\\'ia, CONICET--CICPBA--UNLP, Argentina\\n\",\n",
       " '\\\\and\\n',\n",
       " \"Instituto de Astronom{\\\\'\\\\i}a y F{\\\\'\\\\i}sica del Espacio, CONICET--UBA, Argentina\\n\",\n",
       " '\\\\and\\n',\n",
       " \"Observatorio Astron\\\\'omico de C\\\\'ordoba, UNC, Argentina\\n\",\n",
       " '\\\\and\\n',\n",
       " \"Instituto de Astronom\\\\'ia Te\\\\'orica y Experimental, CONICET--UNC, Argentina\\n\",\n",
       " '\\\\and\\n',\n",
       " \"Consejo Nacional de Investigaciones Cient\\\\'ificas y T\\\\'ecnicas, Argentina\\n\",\n",
       " '}\\n',\n",
       " '\\n',\n",
       " '%%%%%%%%%%%%%%%%%%%%%%%%%%%%%%%%%%%%%%%%%%%%%%%%%%%%%%%%%%%%%%%%%%%%%%%%%%%%%%\\n',\n",
       " '%  *************************** Resumen / Summary **************************  %\\n',\n",
       " '%                                                                            %\\n',\n",
       " '%  -Ver en la sección 3 \"Resumen\" para mas información                       %\\n',\n",
       " '%  -Debe estar escrito en castellano y en inglés.                            %\\n',\n",
       " '%  -Debe consistir de un solo párrafo con un máximo de 1500 (mil quinientos) %\\n',\n",
       " '%   caracteres, incluyendo espacios.                                         %\\n',\n",
       " '%                                                                            %\\n',\n",
       " '%  -Must be written in Spanish and in English.                               %\\n',\n",
       " '%  -Must consist of a single paragraph with a maximum  of 1500 (one thousand %\\n',\n",
       " '%   five hundred) characters, including spaces.                              %\\n',\n",
       " '%%%%%%%%%%%%%%%%%%%%%%%%%%%%%%%%%%%%%%%%%%%%%%%%%%%%%%%%%%%%%%%%%%%%%%%%%%%%%%\\n',\n",
       " '\\n',\n",
       " '\\\\resumen{Esta es una guía de preparación de artículos para el \\\\textit{Boletín de la Asociación Argentina de Astronomía} (BAAA), que además sirve de macro para el Volumen 65. Por favor lea con atención su contenido a fin de prevenir los errores de estilo más frecuentes. Lea también con atención los comentarios, precedidos con el símbolo ``\\\\%\" en el archivo fuente \\\\LaTeX{} de este documento. El presente es el único formato aceptado para los artículos recibidos por los editores. Su envío deberá hacerse exclusivamente mediante el Sistema de Gestión de Manuscritos del BAAA (SiGMa).}\\n',\n",
       " '\\n',\n",
       " '\\\\abstract{This is the author guide to prepare articles for the \\\\textit{Boletín de la Asociación Argentina de Astronomía} (BAAA), intended also as a macro for Volume 65. Please read carefully its content to prevent the most frequent style errors. Please also read carefully the comments preceded by the symbol ``\\\\%\"in the \\\\LaTeX{} source file of this document. This is the only format accepted for article submission, that must be done via the BAAA Manuscript Management System (SiGMa).}\\n',\n",
       " '\\n',\n",
       " '%%%%%%%%%%%%%%%%%%%%%%%%%%%%%%%%%%%%%%%%%%%%%%%%%%%%%%%%%%%%%%%%%%%%%%%%%%%%%%\\n',\n",
       " '%                                                                            %\\n',\n",
       " '%  Seleccione las palabras clave que describen su contribución. Las mismas   %\\n',\n",
       " '%  son obligatorias, y deben tomarse de la lista de la American Astronomical %\\n',\n",
       " '%  Society (AAS), que se encuentra en la página web indicada abajo.          %\\n',\n",
       " '%                                                                            %\\n',\n",
       " '%  Select the keywords that describe your contribution. They are mandatory,  %\\n',\n",
       " '%  and must be taken from the list of the American Astronomical Society      %\\n',\n",
       " '%  (AAS), which is available at the webpage quoted below.                    %\\n',\n",
       " '%                                                                            %\\n',\n",
       " '%  https://journals.aas.org/keywords-2013/                                   %\\n',\n",
       " '%                                                                            %\\n',\n",
       " '%%%%%%%%%%%%%%%%%%%%%%%%%%%%%%%%%%%%%%%%%%%%%%%%%%%%%%%%%%%%%%%%%%%%%%%%%%%%%%\\n',\n",
       " '\\n',\n",
       " '\\\\keywords{ Sun: abundances --- stars: early-type --- Galaxy: structure --- galaxies: individual (M31)}\\n',\n",
       " '\\n',\n",
       " '\\\\begin{document}\\n',\n",
       " '\\n',\n",
       " '\\\\maketitle\\n',\n",
       " \"\\\\section{Introducci\\\\'on}\\\\label{S_intro}\\n\",\n",
       " '\\n',\n",
       " 'La 65a reunión anual de la Asociación Argentina de Astronomía (AAA) se desarrolló del 18 al 22 de septiembre de 2023 en la ciudad de San Juan. Durante la misma, se expusieron 68 trabajos en forma de presentaciones orales y 133  trabajos en forma de presentaciones murales, incluyendo 14 charlas invitadas (dos correspondientes a los Premios Sahade y Sérsic). Invitamos cordialmente a los expositores de dicha reunión a remitir sus contribuciones en forma escrita, para que puedan ser consideradas para su publicación en el {Vol. 65 del BAAA.}\\n',\n",
       " '\\n',\n",
       " 'El Comité Editorial de este volumen está integrado por Cristina H. Mandrini como Editora en Jefe. Claudia E. Boeris como Secretaria Editorial y Mariano Poisson como Técnico Editorial. A éstos se incorporan los Editores Asociados: Andrea P. Buccino, Gabriela Castelletti, Sofía A. Cora, Héctor J. Martínez y Mariela C. Vieytes. El Editor Invitado es Hernán Muriel, quien se desempeñó como Presidente del Comité Organizador Científico de la reunión. \\n',\n",
       " '\\n',\n",
       " 'Al considerar el envío de su contribución, tener en cuenta los siguientes puntos:\\n',\n",
       " '\\\\begin{itemize}\\n',\n",
       " '    \\\\item La carga de contribuciones y su seguimiento durante la etapa de revisión, se realiza exclusivamente utilizando el Sistema de Gestión de Manuscritos de la AAA  (SiGMa)\\\\footnote{\\\\url{http://sigma.fcaglp.unlp.edu.ar/}}. \\n',\n",
       " '    \\\\item Las contribuciones serán revisadas por árbitros externos asignados por los editores (excepto las correspondientes a informes invitados, premios y mesas redondas). Los árbitros constatarán, entre otros aspectos, la originalidad de su contribución. No se aceptarán contribuciones ya publicadas o enviadas a publicar a otra revista. \\n',\n",
       " '    \\\\item Los manuscritos aceptados formarán parte de la base de publicaciones ADS.    \\n',\n",
       " '    \\\\item  El BAAA está regulado por el Reglamento de Publicaciones\\\\footnote{\\\\url{http://astronomiaargentina.org.ar/uploads/docs/reglamento_publicaciones.pdf}} de la AAA, artículos 2 al 6.\\n',\n",
       " '\\\\end{itemize}\\n',\n",
       " '                                                                   \\n',\n",
       " 'Agradecemos desde ya el envío de contribuciones en tiempo y forma, ayudando a lograr que la próxima edición de la única publicación de astronomía profesional de la Argentina se publique lo antes posible.\\n',\n",
       " '\\n',\n",
       " '\\\\section{Instrucciones}\\n',\n",
       " '\\n',\n",
       " 'El BAAA admite dos categorías de contribución:\\n',\n",
       " '\\\\begin{itemize}\\n',\n",
       " '    \\\\item Breve (4 páginas), correspondiente a comunicación oral o mural.\\n',\n",
       " '    \\\\item Extensa (8 páginas), correspondiente a informe invitado, mesa redonda o premio.\\n',\n",
       " '\\\\end{itemize}\\n',\n",
       " 'El límite de páginas especificado para cada categoría aplica aún después de introducir correcciones arbitrales y editoriales. Queda a cargo de los autores hacer los ajustes de extensión que resulten necesarios. {No está permitido el uso de comandos que mo\\\\-di\\\\-fiquen las propiedades de espaciado y tamaño del texto}, tales como $\\\\backslash${\\\\tt small}, $\\\\backslash${\\\\tt scriptsize}, $\\\\backslash${\\\\tt vskip}, etc. \\n',\n",
       " '\\n',\n",
       " '\\n',\n",
       " 'Tenga en cuenta los siguientes puntos para la correcta preparación de su manuscrito:\\n',\n",
       " '\\\\begin{itemize}\\n',\n",
       " '    \\\\item Utilice exclusivamente este macro ({\\\\tt articulo-baaa65.tex}), no el de ediciones anteriores. El mismo puede ser descargado desde SiGMa o desde el sistema de edición en línea \\\\href{https://www.overleaf.com/}{\\\\emph{Overleaf}}, como la plantilla titulada  \\\\emph{Boletín Asociación Argentina de Astronomía}.\\n',\n",
       " '   \\\\item Elaborar el archivo fuente (*.tex) de su contribución respetando el formato especificado en la Sec.~\\\\ref{sec:guia}      \\n',\n",
       " '   \\\\item No está permitido el uso de definiciones o comandos personalizados en \\\\LaTeX{}.\\n',\n",
       " '\\\\end{itemize}\\n',\n",
       " '\\n',\n",
       " '\\\\subsection{Plazos de recepción de manuscritos}\\n',\n",
       " '\\n',\n",
       " 'La recepción de trabajos correspondientes a comunicación oral o mural se extiende hasta el día {\\\\bf 9 de febrero de 2024} inclusive. Las contribuciones tipo informe invitado, mesa redonda o premio, se recibirán hasta el {\\\\bf 16 de febrero de 2024} inclusive. La recepción finalizará automáticamente en las fechas indicadas, por lo que no se admitirán contribuciones enviadas con fechas posteriores.\\n',\n",
       " '\\n',\n",
       " '\\n',\n",
       " '\\\\section{Guía de estilo para el BAAA}\\\\label{sec:guia}\\n',\n",
       " '\\n',\n",
       " 'Al elaborar su manuscrito, siga rigurosamente el estilo definido en esta sección. Esta lista no es exhaustiva, el manual de estilo completo está disponible en la sección \\\\href{http://sigma.fcaglp.unlp.edu.ar/docs/SGM_docs_v01/Surf/index.html}{Instructivos} del SiGMa. Si algún caso no está incluido en el manual de estilo del BAAA, se solicita seguir el estilo de la revista Astronomy \\\\& Astrophysics\\\\footnote{\\\\url{{https://www.aanda.org/for-authors/latex-issues/typography}}}.\\n',\n",
       " '\\n',\n",
       " '\\\\subsection{Idioma del texto, resumen y figuras}\\n',\n",
       " '\\n',\n",
       " 'El artículo puede escribirse en español o inglés a decisión del autor. El resumen debe escribirse siempre en ambos idiomas. Todas las partes del documento (título, texto, figuras, tablas, etc.)  deben estar en el idioma del texto principal. Al utilizar palabras de un lenguaje diferente al del texto (solo si es inevitable) incluirlas en {\\\\em cursiva}.\\n',\n",
       " '\\n',\n",
       " '\\\\subsection{Título}\\n',\n",
       " '\\n',\n",
       " 'Inicie en letra mayúscula solo la primera palabra, nombres propios o acrónimos. Procure ser breve, de ser necesario divida el título en múltiples líneas, puede utilizar el corte de línea (\\\\verb|\\\\\\\\|). No agregue punto final al título.\\n',\n",
       " '\\n',\n",
       " '\\\\subsection{Autores}\\n',\n",
       " '\\n',\n",
       " \"Los autores deben estar separados por comas, excepto el último que se separa con ``\\\\verb|\\\\&|''. El formato es: S.W. Hawking (iniciales luego apellidos, sin comas ni espacios entre las iniciales). Si envía varios artículos, por favor revisar que el nombre aparezca igual en todos ellos, especialmente en apellidos dobles y con guiones.\\n\",\n",
       " '\\n',\n",
       " '\\\\subsection{Afiliaciones}\\n',\n",
       " '\\n',\n",
       " 'El archivo ({\\\\sc ASCII}) {\\\\tt BAAA\\\\_afiliaciones.txt} incluido en este paquete, lista todas las afiliaciones de los autores de esta edición en el formato adoptado por el BAAA. En caso de no encontrar su institución, respete el formato: Instituto (Observatorio o Facultad), Dependencia institucional (para instituciones en Argentina sólo indique las siglas), País (en español).  No incluya punto final en las afiliaciones, excepto si es parte del nombre del país, como por ejemplo: ``EE.UU.\".\\n',\n",
       " '\\n',\n",
       " '\\\\subsection{Resumen}\\n',\n",
       " '\\n',\n",
       " 'Debe consistir de un solo párrafo con un máximo de 1\\\\,500 (mil quinientos) caracteres, incluyendo espacios. Debe estar escrito en castellano y en inglés. No están permitidas las referencias bibliográficas o imágenes. Evite el uso de acrónimos en el resumen. \\n',\n",
       " '\\n',\n",
       " '\\\\subsection{Palabras clave: \\\\textit{Keywords}}\\n',\n",
       " '\\n',\n",
       " 'Las palabras clave deben ser escritas en inglés y seleccionarse exclusivamente de la lista de la American Astronomical Society (AAS) \\\\footnote{\\\\url{https://journals.aas.org/keywords-2013/}}. Toda parte indicada entre paréntesis no debe incluirse. Por ejemplo, ``(stars:) binaries (including multiple): close\\'\\' debe darse como ``binaries: close\\'\\'. Palabras que incluyen nombres individuales de objetos lo hacen entre paréntesis, como por ejemplo: ``galaxies: individual (M31)\". Respete el uso de letras minúsculas y mayúsculas en el listado de la AAS. Note que el delimitador entre palabras clave es el triple guión. Las {\\\\em keywords} de este artículo ejemplifican todos estos detalles. \\n',\n",
       " '\\n',\n",
       " 'Finalmente, además de las palabras clave listadas por la AAS, el BAAA incorpora a partir del Vol. 61B las siguientes opciones: {citizen science --- education --- outreach --- science journalism --- women in science}.\\n',\n",
       " '\\n',\n",
       " '\\\\subsection{Texto principal}\\n',\n",
       " '\\n',\n",
       " 'Destacamos algunos puntos del manual de estilo.\\n',\n",
       " '\\n',\n",
       " '\\\\begin{itemize}\\n',\n",
       " ' \\\\item La primera unidad se separa de la magnitud por un espacio inseparable (\\\\verb|~|). Las unidades subsiguientes van separadas entre si por semi-espacios (\\\\verb|\\\\,|). Las magnitudes deben escribirse en roman (\\\\verb|\\\\mathrm{km}|), estar abreviadas, no contener punto final, y usar potencias negativas para unidades que dividen. Como ejemplo de aplicación de todas estas normas considere: $c \\\\approx 3 \\\\times 10^8~\\\\mathrm{m\\\\,s}^{-1}$ (\\\\verb|$c \\\\approx 3\\\\times 10^8~\\\\mathrm{m\\\\,s}^{-1}$|).\\n',\n",
       " ' \\\\item Para incluir una expresión matemática o ecuación en el texto, sin importar su extensión, se requiere del uso de solo dos signos \\\\verb|$|, uno al comienzo y otro al final. Esto genera el espaciado y tipografía adecuadas para cada detalle de la frase.\\n',\n",
       " '  \\\\item Para separar parte entera de decimal en números utilizar un punto (no coma).\\n',\n",
       " '  \\\\item Para grandes números, separar en miles usando el espacio reducido; ej.: $1\\\\,000\\\\,000$ (\\\\verb+$1\\\\,000\\\\,000$+).\\n',\n",
       " '  \\\\item Las abreviaturas van en mayúsculas; ej.: UV, IR.\\n',\n",
       " \"  \\\\item Para abreviar ``versus'' utilizar ``vs.'' y no ``Vs.''.\\n\",\n",
       " \"  \\\\item Las comillas son dobles y no simples; ej.: ``palabra'', no `palabra'.\\n\",\n",
       " '  \\\\item Las llamadas a figuras y tablas comienzan con mayúscula si van seguidas del número correspon\\\\-dien\\\\-te. Si la palabra ``Figura\\'\\' está al inicio de una sentencia, se debe escribir completa. En otro caso, se escribe \"Fig.\" (o bien Ec. o Tabla en caso de las ecuaciones y tablas).\\n',\n",
       " '  \\\\item Especies atómicas; ej.: \\\\verb|He {\\\\sc ii}| (He {\\\\sc ii}).\\n',\n",
       " '  \\\\item Nombres de {\\\\sc paquetes} y {\\\\sc rutinas} de {\\\\em software} con tipografía {\\\\em small caps} (\\\\verb|\\\\sc|).\\n',\n",
       " '  \\\\item Nombres de {\\\\sl misiones espaciales} con tipografía {\\\\em slanted} (\\\\verb|\\\\sl|)\\n',\n",
       " '\\\\end{itemize}\\n',\n",
       " '\\n',\n",
       " '\\\\subsection{Ecuaciones y símbolos matemáticos}\\n',\n",
       " '\\n',\n",
       " \"Las ecuaciones deben enumerarse utilizando el entorno \\\\verb|\\\\begin{equation} ... \\\\end{equation}|, o similares (\\\\verb|{align}, {eqnarray}|, etc.). Las ecuaciones deben llevar al final la puntuación gramatical correspondiente, como parte de la frase que conforman. Como se detalla más arriba, para expresiones matemáticas o ecuaciones insertas en el texto, encerrarlas únicamente entre dos símbolos \\\\verb|$|, utilizando \\\\verb|\\\\mathrm{}| para las unidades. Los vectores deben ir en ``negrita'' utilizando \\\\verb|\\\\mathbf{}|.\\n\",\n",
       " '\\n',\n",
       " '\\\\subsection{Tablas}\\n',\n",
       " '\\n',\n",
       " 'Las tablas no deben sobrepasar los márgenes establecidos para el texto (ver Tabla \\\\ref{tabla1}), y {no se pueden usar modificadores del tamaño de texto}.\\n',\n",
       " 'En las tablas se debe incluir cuatro líneas: dos superiores, una inferior y una que separa el encabezado. Se pueden confeccionar tablas de una columna (\\\\verb|\\\\begin{table}|) o de todo el ancho de la página (\\\\verb|\\\\begin{table*}|).\\n',\n",
       " '\\n',\n",
       " '\\\\begin{table}[!t]\\n',\n",
       " '\\\\centering\\n',\n",
       " '\\\\caption{Ejemplo de tabla. Notar en el archivo fuente el manejo de espacios a fin de lograr que la tabla no exceda el margen de la columna de texto.}\\n',\n",
       " '\\\\begin{tabular}{lccc}\\n',\n",
       " '\\\\hline\\\\hline\\\\noalign{\\\\smallskip}\\n',\n",
       " '\\\\!\\\\!Date & \\\\!\\\\!\\\\!\\\\!Coronal $H_r$ & \\\\!\\\\!\\\\!\\\\!Diff. rot. $H_r$& \\\\!\\\\!\\\\!\\\\!Mag. clouds $H_r$\\\\!\\\\!\\\\!\\\\!\\\\\\\\\\n',\n",
       " '& \\\\!\\\\!\\\\!\\\\!10$^{42}$ Mx$^{2}$& \\\\!\\\\!\\\\!\\\\!10$^{42}$ Mx$^{2}$ & \\\\!\\\\!\\\\!\\\\!10$^{42}$ Mx$^{2}$ \\\\\\\\\\n',\n",
       " '\\\\hline\\\\noalign{\\\\smallskip}\\n',\n",
       " '\\\\!\\\\!07 July  &  -- & (2) & [16,64]\\\\\\\\\\n',\n",
       " '\\\\!\\\\!03 August& [5,11]& 3 & [10,40]\\\\\\\\\\n',\n",
       " '\\\\!\\\\!30 August & [17,23] & 3& [4,16]\\\\\\\\\\n',\n",
       " '\\\\!\\\\!25 September & [9,12] & 1 & [10,40]\\\\\\\\\\n',\n",
       " '\\\\hline\\n',\n",
       " '\\\\end{tabular}\\n',\n",
       " '\\\\label{tabla1}\\n',\n",
       " '\\\\end{table}\\n',\n",
       " '\\n',\n",
       " '\\\\subsection{Figuras}\\n',\n",
       " '\\n',\n",
       " \"Las figuras deberán prepararse en formatos ``jpg'', ``png'' o ``pdf'', siendo este último el de preferencia. Deben incluir todos los elementos que posibiliten su correcta lectura, tales como escalas y nombres de los ejes coordenados, códigos de líneas, símbolos, etc.  Verifique que la resolución de imagen sea adecuada. El tamaño de letra de los textos de la figura debe ser igual o mayor que en el texto del epígrafe (ver p.ej. la Fig.~\\\\ref{Figura}). Al realizar figuras a color, procure que no se pierda información cuando se visualiza en escala de grises (como en la versión impresa del BAAA). Por ejemplo, en la Fig.~\\\\ref{Figura}, las curvas sólidas podrían diferenciarse con símbolos diferentes (círculo en una y cuadrado en otra), y una de las curvas punteadas podría ser rayada. Para figuras tomadas de otras pu\\\\-bli\\\\-ca\\\\-cio\\\\-nes, envíe a los editores del BAAA el permiso correspondiente y cítela como exige la publicación original \\n\",\n",
       " '\\n',\n",
       " '%%%%%%%%%%%%%%%%%%%%%%%%%%%%%%%%%%%%%%%%%%%%%%%%%%%%%%%%%%%%%%%%%%%%%%%%%%%%%%\\n',\n",
       " '% Para figuras de dos columnas use \\\\begin{figure*} ... \\\\end{figure*}         %\\n',\n",
       " '%%%%%%%%%%%%%%%%%%%%%%%%%%%%%%%%%%%%%%%%%%%%%%%%%%%%%%%%%%%%%%%%%%%%%%%%%%%%%%\\n',\n",
       " '\\n',\n",
       " '\\\\begin{figure}[!t]\\n',\n",
       " '\\\\centering\\n',\n",
       " '\\\\includegraphics[width=\\\\columnwidth]{ejemplo_figura_Hough_etal.pdf}\\n',\n",
       " '\\\\caption{El tamaño de letra en el texto y en los valores numéricos de los ejes es similar al tamaño de letra de este epígrafe. Si utiliza más de un panel, explique cada uno de ellos; ej.: \\\\emph{Panel superior:} explicación del panel superior. Figura reproducida con permiso de \\\\cite{Hough_etal_BAAA_2020}.}\\n',\n",
       " '\\\\label{Figura}\\n',\n",
       " '\\\\end{figure}\\n',\n",
       " '\\n',\n",
       " '\\\\subsection{Referencias cruzadas}\\\\label{ref}\\n',\n",
       " '\\n',\n",
       " 'Su artículo debe emplear referencias cruzadas utilizando la herramienta  {\\\\sc bibtex}. Para ello elabore un archivo (como el ejemplo incluido: {\\\\tt bibliografia.bib}) conteniendo las referencias {\\\\sc bibtex} utilizadas en el texto. Incluya el nombre de este archivo en el comando \\\\LaTeX{} de inclusión de bibliografía (\\\\verb|\\\\bibliography{bibliografia}|). \\n',\n",
       " '\\n',\n",
       " \"Recuerde que la base de datos ADS contiene las entradas de {\\\\sc bibtex}  para todos los artículos. Se puede acceder a ellas mediante el enlace ``{\\\\em Export Citation}''.\\n\",\n",
       " '\\n',\n",
       " 'El estilo de las referencias se aplica automáticamente a través del archivo de estilo incluido (baaa.bst). De esta manera, las referencias generadas tendrán la forma co\\\\-rrec\\\\-ta para un autor \\n',\n",
       " '\\\\citep{hubble_expansion_1929}, dos autores \\\\citep{penzias_cmb_1965,penzias_cmb_II_1965}, tres autores \\\\citep{navarro_NFW_1997} y muchos autores \\\\citep{riess_SN1a_1998}, \\\\citep{Planck_2016}.\\n',\n",
       " '\\n',\n",
       " '\\\\begin{acknowledgement}\\n',\n",
       " 'Los agradecimientos deben agregarse usando el entorno correspondiente (\\\\texttt{acknowledgement}).\\n',\n",
       " '\\\\end{acknowledgement}\\n',\n",
       " '\\n',\n",
       " '%%%%%%%%%%%%%%%%%%%%%%%%%%%%%%%%%%%%%%%%%%%%%%%%%%%%%%%%%%%%%%%%%%%%%%%%%%%%%%\\n',\n",
       " '%  ******************* Bibliografía / Bibliography ************************  %\\n',\n",
       " '%                                                                            %\\n',\n",
       " '%  -Ver en la sección 3 \"Bibliografía\" para mas información.                 %\\n',\n",
       " '%  -Debe usarse BIBTEX.                                                      %\\n',\n",
       " '%  -NO MODIFIQUE las líneas de la bibliografía, salvo el nombre del archivo  %\\n',\n",
       " '%   BIBTEX con la lista de citas (sin la extensión .BIB).                    %\\n',\n",
       " '%                                                                            %\\n',\n",
       " '%  -BIBTEX must be used.                                                     %\\n',\n",
       " '%  -Please DO NOT modify the following lines, except the name of the BIBTEX  %\\n',\n",
       " '%  file (without the .BIB extension).                                       %\\n',\n",
       " '%%%%%%%%%%%%%%%%%%%%%%%%%%%%%%%%%%%%%%%%%%%%%%%%%%%%%%%%%%%%%%%%%%%%%%%%%%%%%% \\n',\n",
       " '\\n',\n",
       " '\\\\bibliographystyle{baaa}\\n',\n",
       " '\\\\small\\n',\n",
       " '\\\\bibliography{bibliografia}\\n',\n",
       " ' \\n',\n",
       " '\\\\end{document}\\n']"
      ]
     },
     "execution_count": 161,
     "metadata": {},
     "output_type": "execute_result"
    }
   ],
   "source": [
    "text"
   ]
  },
  {
   "cell_type": "code",
   "execution_count": 163,
   "id": "1fd710b8-a319-45be-b7dc-cac5e7152827",
   "metadata": {},
   "outputs": [
    {
     "name": "stdout",
     "output_type": "stream",
     "text": [
      "{'penzias_cmb_1965,penzias_cmb_II_1965', 'navarro_NFW_1997', 'Hough_etal_BAAA_2020', 'hubble_expansion_1929', 'Planck_2016', 'riess_SN1a_1998'}\n",
      "# de citas:  7\n",
      "1  {{Hubble} ...,  1929\n",
      "2  {{Penzias} ...,  1965\n",
      "3  {{Penzias} ...,  1965\n",
      "4  {{Navarro} ...,  1997\n",
      "5  {{Riess} ...,  1998\n",
      "6  {{Planck Collaboration} and {Ade} ...,  2016\n",
      "7  {{Hough} ...,  2020\n"
     ]
    }
   ],
   "source": [
    "RecoverCites(text,bib='./test/*.bib')"
   ]
  },
  {
   "cell_type": "code",
   "execution_count": 109,
   "id": "2f9492c6-ffb0-49e6-8a2f-544304e115d7",
   "metadata": {},
   "outputs": [],
   "source": [
    "\n",
    "bib=glob.glob('./test/*.bib')\n",
    "f = open(bib[0],'r',encoding=encoding)\n",
    "bibtex = f.read().split('@')\n",
    "f.close()\n"
   ]
  },
  {
   "cell_type": "code",
   "execution_count": 128,
   "id": "e1372fb7-5df3-415d-90b4-408a6906afe3",
   "metadata": {},
   "outputs": [
    {
     "name": "stdout",
     "output_type": "stream",
     "text": [
      "2\n"
     ]
    }
   ],
   "source": [
    "for t in bibtex[7].split('\\n'):\n",
    "    s=t.find('thor')\n",
    "    if s > 0:\n",
    "        print(s)"
   ]
  },
  {
   "cell_type": "code",
   "execution_count": 127,
   "id": "05e5ac6a-ce43-4c36-81e7-4eb917f909ef",
   "metadata": {},
   "outputs": [
    {
     "data": {
      "text/plain": [
       "['ARTICLE{Planck_2016,',\n",
       " '',\n",
       " 'author = {{Planck Collaboration} and {Ade}, P.~A.~R. and {Aghanim}, N. and',\n",
       " '        {Arnaud}, M. and {Ashdown}, M. and {Aumont}, J. and',\n",
       " '        {Baccigalupi}, C. and {Banday}, A.~J. and {Barreiro}, R.~B. and',\n",
       " '        {Bartlett}, J.~G. and {Bartolo}, N. and {Battaner}, E. and',\n",
       " '        {Battye}, R. and {Benabed}, K. and {Benoit}, A. and',\n",
       " '        {Benoit}, A. and {Bernard}, J. -P. and {Bersanelli}, M.},',\n",
       " '        title = \"{Planck 2015 results. XIII. Cosmological parameters}\",',\n",
       " '      journal = {\\\\aap},',\n",
       " '     keywords = {cosmology: observations, cosmology: theory, cosmic background radiation,',\n",
       " '        cosmological parameters, Astrophysics - Cosmology and',\n",
       " '        Nongalactic Astrophysics},',\n",
       " '         year = 2016,',\n",
       " '        month = Sep,',\n",
       " '       volume = {594},',\n",
       " '          eid = {A13},',\n",
       " '        pages = {A13},',\n",
       " '          doi = {10.1051/0004-6361/201525830},',\n",
       " ' primaryClass = {astro-ph.CO},',\n",
       " '       adsurl = {https://ui.adsabs.harvard.edu/#abs/2016A&A...594A..13P},',\n",
       " '      adsnote = {Provided by the SAO/NASA Astrophysics Data System}',\n",
       " '}',\n",
       " '',\n",
       " '']"
      ]
     },
     "execution_count": 127,
     "metadata": {},
     "output_type": "execute_result"
    }
   ],
   "source": [
    "bibtex[7].split('\\n')"
   ]
  },
  {
   "cell_type": "code",
   "execution_count": 134,
   "id": "70274a7c-8792-42d3-b08a-1eae86cb596a",
   "metadata": {},
   "outputs": [
    {
     "name": "stdout",
     "output_type": "stream",
     "text": [
      "1  {{Hough} ...,  2020\n",
      "2  {{Hubble} ...,  1929\n",
      "3  {{Penzias} ...,  1965\n",
      "4  {{Penzias} ...,  1965\n",
      "5  {{Navarro} ...,  1997\n",
      "6  {{Riess} ...,  1998\n",
      "7  {{Planck Collaboration} and {Ade} ...,  2016\n"
     ]
    }
   ],
   "source": [
    "\n",
    "dcites=[]\n",
    "for i in ref:\n",
    "    j=0\n",
    "    for c in bibtex:\n",
    "        j=j+1\n",
    "        x=c.find(i)\n",
    "        if x >0:\n",
    "            dcites.append(j)\n",
    "\n",
    "for p,d in enumerate(dcites):\n",
    "    bb=bibtex[d-1].split('\\n')\n",
    "    y=bibtex[d-1].find('year')\n",
    "    x=bibtex[d-1].find('thor')\n",
    "    startau=bibtex[d-1].find('=',x)\n",
    "    endau=bibtex[d-1].find(',',x)\n",
    "    \n",
    "    starty=bibtex[d-1].find('=',y)\n",
    "    endy=bibtex[d-1].find(',',y)\n",
    "\n",
    "    print(p+1,bibtex[d-1][startau+1:endau],'...,',bibtex[d-1][starty+1:endy])\n",
    "    \n",
    "    \n"
   ]
  },
  {
   "cell_type": "code",
   "execution_count": 105,
   "id": "07b6d078-f3c8-4bb3-ae2d-f87fe0c7b208",
   "metadata": {},
   "outputs": [
    {
     "data": {
      "text/plain": [
       "[9, 3, 4, 5, 6, 7, 8]"
      ]
     },
     "execution_count": 105,
     "metadata": {},
     "output_type": "execute_result"
    }
   ],
   "source": [
    "dcites"
   ]
  },
  {
   "cell_type": "code",
   "execution_count": 49,
   "id": "1359e6dd-cfb2-4f01-ae1f-694e52b1605c",
   "metadata": {},
   "outputs": [
    {
     "data": {
      "text/plain": [
       "'hubble_expansion_1929'"
      ]
     },
     "execution_count": 49,
     "metadata": {},
     "output_type": "execute_result"
    }
   ],
   "source": [
    "ref[0].format('b')"
   ]
  },
  {
   "cell_type": "code",
   "execution_count": 63,
   "id": "d8889b33-9318-4b92-a5b7-3a6ed495d3b5",
   "metadata": {},
   "outputs": [
    {
     "data": {
      "text/plain": [
       "'ARTICLE{hubble_expansion_1929,\\n   author = {{Hubble}, E.},\\n    title = \"{A Relation between Distance and Radial Velocity among Extra-Galactic Nebulae}\",\\n  journal = {Proceedings of the National Academy of Science},\\n     year = 1929,\\n    month = mar,\\n   volume = 15,\\n    pages = {168-173},\\n      doi = {10.1073/pnas.15.3.168},\\n   adsurl = {http://esoads.eso.org/abs/1929PNAS...15..168H},\\n  adsnote = {Provided by the SAO/NASA Astrophysics Data System}\\n}\\n\\n'"
      ]
     },
     "execution_count": 63,
     "metadata": {},
     "output_type": "execute_result"
    }
   ],
   "source": [
    "bibtex.split('@')[2]"
   ]
  },
  {
   "cell_type": "code",
   "execution_count": 10,
   "id": "1078981a-a2eb-4e34-8676-1bb9fb2c660e",
   "metadata": {},
   "outputs": [],
   "source": [
    "m2=return_metadata(cites[0],'citep')"
   ]
  },
  {
   "cell_type": "code",
   "execution_count": 11,
   "id": "2bcabb8a-3860-4ac5-aace-3ab48840a902",
   "metadata": {},
   "outputs": [
    {
     "data": {
      "text/plain": [
       "{'citep': 'dyntheo', 'subtitle': False}"
      ]
     },
     "execution_count": 11,
     "metadata": {},
     "output_type": "execute_result"
    }
   ],
   "source": [
    "m2"
   ]
  },
  {
   "cell_type": "code",
   "execution_count": 12,
   "id": "c7208b43-212b-4c5c-ba70-7689d39d3131",
   "metadata": {},
   "outputs": [],
   "source": [
    "from latexcompiler import LC"
   ]
  },
  {
   "cell_type": "code",
   "execution_count": 15,
   "id": "ecb8e59a-adce-488c-ad6a-ce21e27453e8",
   "metadata": {},
   "outputs": [
    {
     "name": "stderr",
     "output_type": "stream",
     "text": [
      "Compile LaTeX file(s): 100%|##############################################################| 2/2 [00:01<00:00,  1.96it/s]\n"
     ]
    }
   ],
   "source": [
    "tex_name='./template_BAAA64/articulo-baaa65.tex'\n",
    "\n",
    "LC.compile_document(tex_engine = 'pdflatex',\n",
    "                    bib_engine = 'biber', # Value is not necessary\n",
    "                    no_bib = True,\n",
    "                    path = tex_name, # Provide the full path to the file!\n",
    "                    folder_name = '.aux_files')"
   ]
  },
  {
   "cell_type": "code",
   "execution_count": 34,
   "id": "b0f4bc8e-7e00-4da6-a4a6-3c1bbe356027",
   "metadata": {},
   "outputs": [],
   "source": [
    "files = glob.glob('./TGZs-iniciales/extracted/*')\n",
    "for f in files:\n",
    "    os.remove(f)"
   ]
  },
  {
   "cell_type": "code",
   "execution_count": 16,
   "id": "0200091d-b01b-4549-ba07-8c72379030f2",
   "metadata": {},
   "outputs": [
    {
     "data": {
      "text/plain": [
       "1"
      ]
     },
     "execution_count": 16,
     "metadata": {},
     "output_type": "execute_result"
    }
   ],
   "source": [
    "os.system(\"pdflatex ./template_BAAA64/articulo-baaa65.tex\")"
   ]
  },
  {
   "cell_type": "code",
   "execution_count": null,
   "id": "c01b328d-c810-48de-9eb7-a2806d78ddf2",
   "metadata": {},
   "outputs": [],
   "source": []
  }
 ],
 "metadata": {
  "kernelspec": {
   "display_name": "Python 3 (ipykernel)",
   "language": "python",
   "name": "python3"
  },
  "language_info": {
   "codemirror_mode": {
    "name": "ipython",
    "version": 3
   },
   "file_extension": ".py",
   "mimetype": "text/x-python",
   "name": "python",
   "nbconvert_exporter": "python",
   "pygments_lexer": "ipython3",
   "version": "3.12.2"
  }
 },
 "nbformat": 4,
 "nbformat_minor": 5
}
