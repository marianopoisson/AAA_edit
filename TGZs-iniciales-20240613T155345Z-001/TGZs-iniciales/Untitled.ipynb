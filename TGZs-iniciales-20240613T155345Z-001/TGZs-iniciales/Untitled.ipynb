{
 "cells": [
  {
   "cell_type": "code",
   "execution_count": 2,
   "id": "77149be7-c638-42d6-9edc-ecd51baea872",
   "metadata": {},
   "outputs": [],
   "source": [
    "\n",
    "import glob\n",
    "import os, sys, tarfile\n",
    "import shutil\n"
   ]
  },
  {
   "cell_type": "code",
   "execution_count": 3,
   "id": "4f3bd80a-70ab-47e2-ac62-a977fceff6fa",
   "metadata": {},
   "outputs": [],
   "source": [
    "name='909'\n",
    "os.chdir('./909_v4')\n",
    "files1 = glob.glob('./*')\n",
    "\n",
    "tar = tarfile.open(name+\".tgz\", \"w:gz\")\n",
    "for f in files1:\n",
    "    tar.add(f)\n",
    "tar.close()\n",
    "\n",
    "os.chdir('..')\n"
   ]
  },
  {
   "cell_type": "code",
   "execution_count": 4,
   "id": "35fb3efe-8b86-4e93-b36b-bb10c599f93e",
   "metadata": {},
   "outputs": [],
   "source": [
    "os.chdir('..')"
   ]
  },
  {
   "cell_type": "code",
   "execution_count": 6,
   "id": "2ebe2bd4-13e3-4cd2-9e78-c5988dc1179a",
   "metadata": {},
   "outputs": [],
   "source": [
    "tar.close()"
   ]
  },
  {
   "cell_type": "code",
   "execution_count": null,
   "id": "0ee36314-ecd4-49d0-80c6-c5d27c690b83",
   "metadata": {},
   "outputs": [],
   "source": []
  },
  {
   "cell_type": "code",
   "execution_count": null,
   "id": "53afc4d7-546c-4102-ba3f-22ed09269d71",
   "metadata": {},
   "outputs": [],
   "source": []
  }
 ],
 "metadata": {
  "kernelspec": {
   "display_name": "Python 3 (ipykernel)",
   "language": "python",
   "name": "python3"
  },
  "language_info": {
   "codemirror_mode": {
    "name": "ipython",
    "version": 3
   },
   "file_extension": ".py",
   "mimetype": "text/x-python",
   "name": "python",
   "nbconvert_exporter": "python",
   "pygments_lexer": "ipython3",
   "version": "3.12.2"
  }
 },
 "nbformat": 4,
 "nbformat_minor": 5
}
