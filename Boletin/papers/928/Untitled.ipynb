{
 "cells": [
  {
   "cell_type": "code",
   "execution_count": 5,
   "id": "1a8faff9-06db-4bfa-a7a2-153e7d411411",
   "metadata": {},
   "outputs": [],
   "source": [
    "\n",
    "import os\n",
    "import re\n",
    "#import hunspell\n",
    "from termcolor import colored\n",
    "import numpy as np\n",
    "import PyPDF2\n",
    "import pandas as pd\n",
    "from pylatexenc.latexencode import unicode_to_latex\n",
    "from chardet.universaldetector import UniversalDetector\n",
    "import textwrap as tr"
   ]
  },
  {
   "cell_type": "code",
   "execution_count": 11,
   "id": "21f2e9dc-3cb3-4782-801b-e9453a7d0231",
   "metadata": {},
   "outputs": [],
   "source": [
    "def return_header(text):\n",
    "\n",
    "  indx = text.index(\"\\\\begin{document}\\n\")\n",
    "  text = text[:indx]\n",
    "  \n",
    "  t = []\n",
    "  for l in text:\n",
    "      if l.startswith(\"%\"):\n",
    "          continue\n",
    "      t.append(l)\n",
    "  \n",
    "  a = []\n",
    "  for l in t:\n",
    "      if l == '\\n':\n",
    "          continue\n",
    "      a.append(l)\n",
    "  \n",
    "  b = []\n",
    "  for l in a:\n",
    "      if l.startswith('\\\\documentclass'):\n",
    "          continue\n",
    "      b.append(l)\n",
    "  \n",
    "  c = []\n",
    "  for l in b:\n",
    "      if l.startswith('\\\\usepackage'):\n",
    "          continue\n",
    "      c.append(l)\n",
    "  \n",
    "  d = ''\n",
    "  for i in c:\n",
    "      d += i\n",
    "  return(d)"
   ]
  },
  {
   "cell_type": "code",
   "execution_count": 12,
   "id": "b415d62f-792f-493e-803f-33cd95f6789d",
   "metadata": {},
   "outputs": [],
   "source": [
    "def return_metadata(text,keys):\n",
    "  metadata = {}\n",
    "\n",
    "  while True:\n",
    "    try:\n",
    "       i = text.index('\\\\')\n",
    "       j = text.index('{', i)\n",
    "       key = text[i + 1: j]\n",
    "       k = j + 1\n",
    "       abierto = 1\n",
    "\n",
    "       while abierto > 0 and k < len(text):\n",
    "         if text[k] == '{':\n",
    "           abierto += 1\n",
    "         if text[k] == '}':\n",
    "           abierto -= 1\n",
    "         k += 1\n",
    "\n",
    "       if key in keys:\n",
    "         metadata[key] = text[j + 1: k - 1].strip()\n",
    "\n",
    "       text = text[k:]\n",
    "    except ValueError:\n",
    "       break\n",
    "    except IndexError:\n",
    "       break\n",
    "\n",
    "  for required_key in keys:\n",
    "    if required_key not in metadata:\n",
    "      metadata[required_key] = None\n",
    "\n",
    "  return(metadata)\n"
   ]
  },
  {
   "cell_type": "code",
   "execution_count": 27,
   "id": "778b9af5-acfa-4967-80d0-db537357d439",
   "metadata": {},
   "outputs": [],
   "source": [
    "def process(l):\n",
    "\n",
    "  detector = UniversalDetector()                         \n",
    "  detector.reset()\n",
    "  for line in open(l+\".tex\",\"rb\"):                      \n",
    "    detector.feed(line)\n",
    "    if detector.done: break\n",
    "  detector.close()\n",
    "  encoding = detector.result['encoding']\n",
    "\n",
    "  f = open(l+'.tex','r',encoding=encoding)\n",
    "  text = f.readlines()\n",
    "  f.close()\n",
    "\n",
    "  keys = ['contriblanguage','contribtype','thematicarea','title','author','abstract','subtitle','keywords','institute']\n",
    "\n",
    "  d = return_header(text)\n",
    "  m = return_metadata(d,keys)\n",
    "\n",
    "#  m['title']  = clean_title(m['title'],m['subtitle'])\n",
    "#  m['author']  = clean_author(m['author'])\n",
    "#  m['keywords']  = clean_keywords(m['keywords'],keywordList)\n",
    "#  m['abstract'] = clean_abstract(m['abstract'])\n",
    "#  m['contriblanguage']  = language[m['contriblanguage']]\n",
    "#  m['contribtype'] = contribtype[m['contribtype']]\n",
    "#  m['thematicarea'] = thematicarea[m['thematicarea']]\n",
    "#  m['num_authors'] = len(m['author'])\n",
    "\n",
    "\n",
    "\n",
    "#  f = open(l+'.pdf', 'rb')\n",
    "#  fileReader = PyPDF2.PdfReader(f)\n",
    "#  m['npages'] = len(fileReader.pages)\n",
    "\n",
    "\n",
    "  return(m)\n"
   ]
  },
  {
   "cell_type": "code",
   "execution_count": 28,
   "id": "e197df56-69aa-40bf-b813-932eb630d61b",
   "metadata": {},
   "outputs": [],
   "source": [
    "m=process('928')"
   ]
  },
  {
   "cell_type": "code",
   "execution_count": 29,
   "id": "10be8426-e75e-463d-8123-882525555312",
   "metadata": {},
   "outputs": [
    {
     "data": {
      "text/plain": [
       "dict_keys(['contriblanguage', 'contribtype', 'thematicarea', 'title', 'author', 'institute', 'abstract', 'keywords', 'subtitle'])"
      ]
     },
     "execution_count": 29,
     "metadata": {},
     "output_type": "execute_result"
    }
   ],
   "source": [
    "m.keys()"
   ]
  },
  {
   "cell_type": "code",
   "execution_count": 30,
   "id": "94e9a2a8-ea7a-4f5a-af8d-95a11cbb47b7",
   "metadata": {},
   "outputs": [
    {
     "data": {
      "text/plain": [
       "\"Facultad de Ciencias Astron\\\\'omicas y Geof\\\\'isicas, UNLP, Argentina \\\\and\\n  Instituto de Astrof\\\\'isica de La Plata, CONICET--UNLP, Argentina \\\\and\\n  Consejo Nacional de Investigaciones Cient\\\\'ificas y T\\\\'ecnicas, Argentina \\\\and\\n  Waterloo Centre for Astrophysics, University of Waterloo, Canada \\\\and\\n  Perimeter Institute for Theoretical Physics, Canada \\\\and\\n  Instituto de F\\\\'isica, Universidade Federal do Rio Grande do Sul, Brasil \\\\and\\n  University of Hertfordshire, Reino Unido\""
      ]
     },
     "execution_count": 30,
     "metadata": {},
     "output_type": "execute_result"
    }
   ],
   "source": [
    "m['institute']"
   ]
  },
  {
   "cell_type": "code",
   "execution_count": 41,
   "id": "fd0b3c06-9e16-4061-a491-a593c1565849",
   "metadata": {},
   "outputs": [
    {
     "name": "stdout",
     "output_type": "stream",
     "text": [
      "[[1, 2, 3], [4, 5], [6], [1, 2, 3], [7], [6], [6], [6], [6], [6], [6]]\n",
      "['Facultad de Ciencias Astronómicas y Geofísicas, UNLP, Argentina', 'Instituto de Astrofísica de La Plata, CONICET–UNLP, Argentina', 'Consejo Nacional de Investigaciones Científicas y Técnicas, Argentina', 'Waterloo Centre for Astrophysics, University of Waterloo, Canada', 'Perimeter Institute for Theoretical Physics, Canada', 'Instituto de Física, Universidade Federal do Rio Grande do Sul, Brasil', 'University of Hertfordshire, Reino Unido', '']\n",
      "Autor 1: ['Facultad de Ciencias Astronómicas y Geofísicas, UNLP, Argentina', 'Instituto de Astrofísica de La Plata, CONICET–UNLP, Argentina', 'Consejo Nacional de Investigaciones Científicas y Técnicas, Argentina']\n",
      "Autor 2: ['Waterloo Centre for Astrophysics, University of Waterloo, Canada', 'Perimeter Institute for Theoretical Physics, Canada']\n",
      "Autor 3: ['Instituto de Física, Universidade Federal do Rio Grande do Sul, Brasil']\n",
      "Autor 4: ['Facultad de Ciencias Astronómicas y Geofísicas, UNLP, Argentina', 'Instituto de Astrofísica de La Plata, CONICET–UNLP, Argentina', 'Consejo Nacional de Investigaciones Científicas y Técnicas, Argentina']\n",
      "Autor 5: ['University of Hertfordshire, Reino Unido']\n",
      "Autor 6: ['Instituto de Física, Universidade Federal do Rio Grande do Sul, Brasil']\n",
      "Autor 7: ['Instituto de Física, Universidade Federal do Rio Grande do Sul, Brasil']\n",
      "Autor 8: ['Instituto de Física, Universidade Federal do Rio Grande do Sul, Brasil']\n",
      "Autor 9: ['Instituto de Física, Universidade Federal do Rio Grande do Sul, Brasil']\n",
      "Autor 10: ['Instituto de Física, Universidade Federal do Rio Grande do Sul, Brasil']\n",
      "Autor 11: ['Instituto de Física, Universidade Federal do Rio Grande do Sul, Brasil']\n"
     ]
    }
   ],
   "source": [
    "# Expresión regular para capturar solo los números dentro de \\inst{}\n",
    "pattern = r\"\\\\inst\\{([0-9,]+)\\}\"\n",
    "\n",
    "# Extraer las coincidencias\n",
    "matches = re.findall(pattern, m['author'])\n",
    "\n",
    "# Crear la lista de listas de números (convertidos a enteros)\n",
    "inst_list = [[int(num) for num in inst.split(',')] for inst in matches]\n",
    "\n",
    "# Mostrar el resultado\n",
    "print(inst_list)\n",
    "\n",
    "\n",
    "# Diccionario para reemplazar los comandos LaTeX más comunes\n",
    "latex_replacements = {\n",
    "    r\"\\'a\": \"á\",\n",
    "    r\"\\'e\": \"é\",\n",
    "    r\"\\'i\": \"í\",\n",
    "    r\"\\'o\": \"ó\",\n",
    "    r\"\\'u\": \"ú\",\n",
    "    r\"\\'A\": \"Á\",\n",
    "    r\"\\'E\": \"É\",\n",
    "    r\"\\'I\": \"Í\",\n",
    "    r\"\\'O\": \"Ó\",\n",
    "    r\"\\'U\": \"Ú\",\n",
    "    r\"\\'n\": \"ñ\",\n",
    "    r\"\\'N\": \"Ñ\",\n",
    "    r\"\\\\&\": \"&\",\n",
    "    r\"---\": \"—\",\n",
    "    r\"--\": \"–\",\n",
    "}\n",
    "\n",
    "# Eliminar el comando \\institute{}\n",
    "institute_string_clean = re.sub(r\"\\\\institute\\{|\\}\", \"\", m['institute'])\n",
    "\n",
    "# Reemplazar los comandos de LaTeX por texto plano\n",
    "for latex, plain_text in latex_replacements.items():\n",
    "    institute_string_clean = institute_string_clean.replace(latex, plain_text)\n",
    "\n",
    "# Expresión regular para capturar cada afiliación separada por \\and\n",
    "pattern = r\"(.*?)(?:\\\\and|$)\"\n",
    "\n",
    "# Extraer las coincidencias\n",
    "affiliations = re.findall(pattern, institute_string_clean, re.DOTALL)\n",
    "\n",
    "# Limpiar espacios en blanco y caracteres extra\n",
    "affiliations = [affil.strip() for affil in affiliations]\n",
    "\n",
    "# Mostrar el resultado\n",
    "print(affiliations)\n",
    "\n",
    "# Crear una lista de listas con las afiliaciones de cada autor\n",
    "author_affiliations = []\n",
    "\n",
    "# Recorremos cada lista de instancias (instancias de afiliaciones)\n",
    "for inst in inst_list:\n",
    "    # Para cada lista de instancias de un autor, obtenemos la afiliación correspondiente\n",
    "    # Restamos 1 al índice porque las instancias están numeradas desde 1, no desde 0\n",
    "    author_affiliations.append([affiliations[i-1] for i in inst])\n",
    "\n",
    "# Mostrar el resultado\n",
    "for i, affil in enumerate(author_affiliations, 1):\n",
    "    print(f\"Autor {i}: {affil}\")\n",
    "\n",
    "# Crear el string de salida\n",
    "output = []\n",
    "\n",
    "for i, insts in enumerate(inst_list):\n",
    "    prefix1 = chr(65 + i)  # 'A' es 65 en ASCII\n",
    "    # Convertir el índice a un número entero para acceder a la afiliación\n",
    "    affiliation_index = int(insts[0]) - 1  # Restar 1 para el índice cero\n",
    "    output.append(f\"A{prefix1}({affiliations[affiliation_index]}) \")\n",
    "\n",
    "\"\".join(output)"
   ]
  },
  {
   "cell_type": "code",
   "execution_count": 49,
   "id": "5b37f6b9-93f5-4254-8080-b511d5ebc290",
   "metadata": {},
   "outputs": [],
   "source": [
    "# Crear el string de salida\n",
    "output = []\n",
    "\n",
    "for i, insts in enumerate(inst_list):\n",
    "    prefix1 = chr(65 + i)  # 'A' es 65 en ASCII\n",
    "    # Convertir el índice a un número entero para acceder a la afiliación\n",
    "    affiliation_index = int(insts[0]) - 1  # Restar 1 para el índice cero\n",
    "    output.append(f\"A{prefix1}({affiliations[affiliation_index]}) \")"
   ]
  },
  {
   "cell_type": "code",
   "execution_count": 50,
   "id": "089208e7-f880-4f9c-ac6a-6f4a3f694984",
   "metadata": {},
   "outputs": [
    {
     "data": {
      "text/plain": [
       "'AA(Facultad de Ciencias Astronómicas y Geofísicas, UNLP, Argentina) AB(Waterloo Centre for Astrophysics, University of Waterloo, Canada) AC(Instituto de Física, Universidade Federal do Rio Grande do Sul, Brasil) AD(Facultad de Ciencias Astronómicas y Geofísicas, UNLP, Argentina) AE(University of Hertfordshire, Reino Unido) AF(Instituto de Física, Universidade Federal do Rio Grande do Sul, Brasil) AG(Instituto de Física, Universidade Federal do Rio Grande do Sul, Brasil) AH(Instituto de Física, Universidade Federal do Rio Grande do Sul, Brasil) AI(Instituto de Física, Universidade Federal do Rio Grande do Sul, Brasil) AJ(Instituto de Física, Universidade Federal do Rio Grande do Sul, Brasil) AK(Instituto de Física, Universidade Federal do Rio Grande do Sul, Brasil) '"
      ]
     },
     "execution_count": 50,
     "metadata": {},
     "output_type": "execute_result"
    }
   ],
   "source": [
    "\"\".join(output)"
   ]
  },
  {
   "cell_type": "code",
   "execution_count": 34,
   "id": "d0cf9e6f-db9a-44f6-b385-19a13c66379c",
   "metadata": {},
   "outputs": [
    {
     "ename": "TypeError",
     "evalue": "list indices must be integers or slices, not list",
     "output_type": "error",
     "traceback": [
      "\u001b[1;31m---------------------------------------------------------------------------\u001b[0m",
      "\u001b[1;31mTypeError\u001b[0m                                 Traceback (most recent call last)",
      "Cell \u001b[1;32mIn[34], line 1\u001b[0m\n\u001b[1;32m----> 1\u001b[0m [[r \u001b[38;5;28;01mfor\u001b[39;00m r \u001b[38;5;129;01min\u001b[39;00m \u001b[43maffiliations\u001b[49m\u001b[43m[\u001b[49m\u001b[43mh\u001b[49m\u001b[43m]\u001b[49m] \u001b[38;5;28;01mfor\u001b[39;00m h \u001b[38;5;129;01min\u001b[39;00m inst_list]\n",
      "\u001b[1;31mTypeError\u001b[0m: list indices must be integers or slices, not list"
     ]
    }
   ],
   "source": [
    "[[r for r in affiliations[h]] for h in inst_list]"
   ]
  },
  {
   "cell_type": "code",
   "execution_count": 2,
   "id": "7086b6b5-e990-40e0-a376-9fef4e0e12b8",
   "metadata": {},
   "outputs": [],
   "source": [
    "\n",
    "def extract_affiliations_from_tex(tex_file):\n",
    "    # Leer el archivo .tex\n",
    "    with open(tex_file, 'r', encoding='utf-8') as file:\n",
    "        tex_content = file.read()\n",
    "\n",
    "    # Expresión regular para extraer autores y sus instancias\n",
    "    author_pattern = re.compile(r'\\\\author\\s*\\{(.*?)\\}', re.DOTALL)\n",
    "    authors_block = author_pattern.search(tex_content).group(1)\n",
    "\n",
    "    # Extraer autores y su(s) número(s) de instancias\n",
    "    authors_with_inst = re.findall(r'([A-Za-z\\.\\s\\'\\\\\\&]+)\\s*\\\\inst\\{(\\d+(?:,\\d+)*)\\}', authors_block)\n",
    "\n",
    "    # Expresión regular para extraer las instituciones\n",
    "    institute_pattern = re.compile(r'\\\\institute\\s*\\{(.*?)\\}', re.DOTALL)\n",
    "    institutes_block = institute_pattern.search(tex_content).group(1)\n",
    "\n",
    "    # Extraer afiliaciones divididas por \\and\n",
    "    affiliations = re.split(r'\\s*\\\\and\\s*', institutes_block)\n",
    "\n",
    "    # Crear un diccionario de autores con sus afiliaciones\n",
    "    author_affiliations = {}\n",
    "    for author, inst_numbers in authors_with_inst:\n",
    "        # Obtener las afiliaciones correspondientes a los números de instancias\n",
    "        author_affiliations[author.strip()] = [affiliations[int(i)-1].strip() for i in inst_numbers.split(',')]\n",
    "\n",
    "    return author_affiliations\n",
    "\n",
    "\n"
   ]
  },
  {
   "cell_type": "code",
   "execution_count": 3,
   "id": "2f227536-e8d3-45fc-acc3-0528008807f1",
   "metadata": {},
   "outputs": [],
   "source": [
    "# Ejemplo de uso:\n",
    "affiliations = extract_affiliations_from_tex('928.tex')\n",
    "for author, affiliation in affiliations.items():\n",
    "    print(f\"{author}: {', '.join(affiliation)}\")"
   ]
  },
  {
   "cell_type": "code",
   "execution_count": 4,
   "id": "f518f6df-be44-4b25-a2f5-def845cf7cc7",
   "metadata": {},
   "outputs": [
    {
     "data": {
      "text/plain": [
       "{}"
      ]
     },
     "execution_count": 4,
     "metadata": {},
     "output_type": "execute_result"
    }
   ],
   "source": [
    "affiliations"
   ]
  },
  {
   "cell_type": "code",
   "execution_count": 81,
   "id": "5ce95239-fe16-4012-8e28-c7dabe695bc0",
   "metadata": {},
   "outputs": [
    {
     "name": "stdout",
     "output_type": "stream",
     "text": [
      "Elemento 1: {Abdollahi} S., et~al., 2022, \\apjs, 260, 53\n",
      "\n",
      "Elemento 2: {Ballet} J., et~al., 2023, arXiv e-prints, arXiv:2307.12546\n",
      "\n",
      "Elemento 3: {Benaglia} P., 2010, J.~{Mart{\\'\\i}}, P.L. {Luque-Escamilla}, J.A. {Combi}  (Eds.), \\textit{High Energy Phenomena in Massive Stars}, \\textit{Astronomical  Society of the Pacific Conference Series}, vol. 422, 111\n",
      "\n",
      "Elemento 4: {Benaglia} P., 2016, \\pasa, 33, e017\n",
      "\n",
      "Elemento 5: {Benaglia} P., {Cappa} C.E., {Koribalski} B.S., 2001{\\natexlab{a}}, \\aap, 372,  952\n",
      "\n"
     ]
    }
   ],
   "source": [
    "import re\n",
    "\n",
    "# Contenido del archivo .bbl\n",
    "bbl_content = r\"\"\"\n",
    "\\begin{thebibliography}{56}\n",
    "\\providecommand{\\natexlab}[1]{#1}\n",
    "\n",
    "\\bibitem[{{Abdollahi} et~al.(2022)}]{abdollahi2022}\n",
    "{Abdollahi} S., et~al., 2022, \\apjs, 260, 53\n",
    "\n",
    "\\bibitem[{{Ballet} et~al.(2023)}]{ballet2023}\n",
    "{Ballet} J., et~al., 2023, arXiv e-prints, arXiv:2307.12546\n",
    "\n",
    "\\bibitem[{{Benaglia}(2010)}]{jaenproc2010}\n",
    "{Benaglia} P., 2010, J.~{Mart{\\'\\i}}, P.L. {Luque-Escamilla}, J.A. {Combi}\n",
    "  (Eds.), \\textit{High Energy Phenomena in Massive Stars}, \\textit{Astronomical\n",
    "  Society of the Pacific Conference Series}, vol. 422, 111\n",
    "\n",
    "\\bibitem[{{Benaglia}(2016)}]{benaglia2016}\n",
    "{Benaglia} P., 2016, \\pasa, 33, e017\n",
    "\n",
    "\\bibitem[{{Benaglia} et~al.(2001{\\natexlab{a}}){Benaglia}, {Cappa} \\&\n",
    "  {Koribalski}}]{benagliamdot200}\n",
    "{Benaglia} P., {Cappa} C.E., {Koribalski} B.S., 2001{\\natexlab{a}}, \\aap, 372,\n",
    "  952\n",
    "\n",
    "\\bibitem[{{Benaglia} et~al.(2006){Benaglia}, {Koribalski} \\& {Albacete\n",
    "  Colombo}}]{benaglia2006}\n",
    "{Benaglia} P., {Koribalski} B., {Albacete Colombo} J.F., 2006, \\pasa, 23, 50\n",
    "\\end{thebibliography}{56}\n",
    "\"\"\"\n",
    "\n",
    "# Expresión regular para capturar los elementos entre \\bibitem y el final\n",
    "pattern = r\"(.*?)(?:\\\\bibitem|\\\\end\\{thebibliography\\}$)\"\n",
    "\n",
    "# Buscar todas las coincidencias\n",
    "bibliography_items = re.findall(pattern, bbl_content, re.DOTALL)\n",
    "\n",
    "# Limpiar los elementos\n",
    "bibliography_items = [re.sub(r\"\\n\",\"\", item) for item in bibliography_items]\n",
    "\n",
    "\n",
    "bibliography_items = [re.sub(r\"^\\[.*?\\]\", \"\", item).strip() for item in bibliography_items]\n",
    "bibliography_items = [re.sub(r\"^\\{.*?\\}\", \"\", item).strip() for item in bibliography_items]\n",
    "\n",
    "# Mostrar la lista resultante\n",
    "for index, item in enumerate(bibliography_items[1:]):\n",
    "    print(f\"Elemento {index + 1}: {item}\\n\")\n"
   ]
  },
  {
   "cell_type": "code",
   "execution_count": 63,
   "id": "6adba077-5d18-4562-9e9f-eb5f7e4c0a76",
   "metadata": {},
   "outputs": [
    {
     "name": "stdout",
     "output_type": "stream",
     "text": [
      "['\\n\\\\begin{thebibliography}{56}\\n\\\\providecommand{\\\\natexlab}[1]{#1}\\n\\n', '[{{Abdollahi} et~al.(2022)}]{abdollahi2022}\\n{Abdollahi} S., et~al., 2022, \\\\apjs, 260, 53\\n\\n', '[{{Ballet} et~al.(2023)}]{ballet2023}\\n{Ballet} J., et~al., 2023, arXiv e-prints, arXiv:2307.12546\\n\\n', \"[{{Benaglia}(2010)}]{jaenproc2010}\\n{Benaglia} P., 2010, J.~{Mart{\\\\'\\\\i}}, P.L. {Luque-Escamilla}, J.A. {Combi}\\n  (Eds.), \\\\textit{High Energy Phenomena in Massive Stars}, \\\\textit{Astronomical\\n  Society of the Pacific Conference Series}, vol. 422, 111\\n\\n\", '[{{Benaglia}(2016)}]{benaglia2016}\\n{Benaglia} P., 2016, \\\\pasa, 33, e017\\n\\n', '[{{Benaglia} et~al.(2001{\\\\natexlab{a}}){Benaglia}, {Cappa} \\\\&\\n  {Koribalski}}]{benagliamdot200}\\n{Benaglia} P., {Cappa} C.E., {Koribalski} B.S., 2001{\\\\natexlab{a}}, \\\\aap, 372,\\n  952\\n\\n', '[{{Benaglia} et~al.(2006){Benaglia}, {Koribalski} \\\\& {Albacete\\n  Colombo}}]{benaglia2006}\\n{Benaglia} P., {Koribalski} B., {Albacete Colombo} J.F., 2006, \\\\pasa, 23, 50\\n\\\\end{thebibliography}{56}', '', '\\n', '']\n",
      "Elemento 1: \\begin{thebibliography}{56}\n",
      "\\providecommand{\\natexlab}[1]{#1}\n",
      "\n",
      "Elemento 2: [{{Abdollahi} et~al.(2022)}]{abdollahi2022}\n",
      "{Abdollahi} S., et~al., 2022, \\apjs, 260, 53\n",
      "\n",
      "Elemento 3: [{{Ballet} et~al.(2023)}]{ballet2023}\n",
      "{Ballet} J., et~al., 2023, arXiv e-prints, arXiv:2307.12546\n",
      "\n",
      "Elemento 4: [{{Benaglia}(2010)}]{jaenproc2010}\n",
      "{Benaglia} P., 2010, J.~{Mart{\\'\\i}}, P.L. {Luque-Escamilla}, J.A. {Combi}\n",
      "  (Eds.), \\textit{High Energy Phenomena in Massive Stars}, \\textit{Astronomical\n",
      "  Society of the Pacific Conference Series}, vol. 422, 111\n",
      "\n",
      "Elemento 5: [{{Benaglia}(2016)}]{benaglia2016}\n",
      "{Benaglia} P., 2016, \\pasa, 33, e017\n",
      "\n",
      "Elemento 6: [{{Benaglia} et~al.(2001{\\natexlab{a}}){Benaglia}, {Cappa} \\&\n",
      "  {Koribalski}}]{benagliamdot200}\n",
      "{Benaglia} P., {Cappa} C.E., {Koribalski} B.S., 2001{\\natexlab{a}}, \\aap, 372,\n",
      "  952\n",
      "\n",
      "Elemento 7: [{{Benaglia} et~al.(2006){Benaglia}, {Koribalski} \\& {Albacete\n",
      "  Colombo}}]{benaglia2006}\n",
      "{Benaglia} P., {Koribalski} B., {Albacete Colombo} J.F., 2006, \\pasa, 23, 50\n",
      "\\end{thebibliography}{56}\n",
      "\n",
      "Elemento 8: \n",
      "\n",
      "Elemento 9: \n",
      "\n",
      "Elemento 10: \n",
      "\n"
     ]
    }
   ],
   "source": [
    "import re\n",
    "\n",
    "# Contenido del archivo .bbl\n",
    "bbl_content = r\"\"\"\n",
    "\\begin{thebibliography}{56}\n",
    "\\providecommand{\\natexlab}[1]{#1}\n",
    "\n",
    "\\bibitem[{{Abdollahi} et~al.(2022)}]{abdollahi2022}\n",
    "{Abdollahi} S., et~al., 2022, \\apjs, 260, 53\n",
    "\n",
    "\\bibitem[{{Ballet} et~al.(2023)}]{ballet2023}\n",
    "{Ballet} J., et~al., 2023, arXiv e-prints, arXiv:2307.12546\n",
    "\n",
    "\\bibitem[{{Benaglia}(2010)}]{jaenproc2010}\n",
    "{Benaglia} P., 2010, J.~{Mart{\\'\\i}}, P.L. {Luque-Escamilla}, J.A. {Combi}\n",
    "  (Eds.), \\textit{High Energy Phenomena in Massive Stars}, \\textit{Astronomical\n",
    "  Society of the Pacific Conference Series}, vol. 422, 111\n",
    "\n",
    "\\bibitem[{{Benaglia}(2016)}]{benaglia2016}\n",
    "{Benaglia} P., 2016, \\pasa, 33, e017\n",
    "\n",
    "\\bibitem[{{Benaglia} et~al.(2001{\\natexlab{a}}){Benaglia}, {Cappa} \\&\n",
    "  {Koribalski}}]{benagliamdot200}\n",
    "{Benaglia} P., {Cappa} C.E., {Koribalski} B.S., 2001{\\natexlab{a}}, \\aap, 372,\n",
    "  952\n",
    "\n",
    "\\bibitem[{{Benaglia} et~al.(2006){Benaglia}, {Koribalski} \\& {Albacete\n",
    "  Colombo}}]{benaglia2006}\n",
    "{Benaglia} P., {Koribalski} B., {Albacete Colombo} J.F., 2006, \\pasa, 23, 50\n",
    "\\end{thebibliography}{56}\n",
    "\"\"\"\n",
    "\n",
    "# Expresión regular para capturar los elementos entre \\bibitem y el final\n",
    "pattern = pattern = r\"(.*?)(?:\\\\bibitem|$)\"\n",
    "\n",
    "# Buscar todas las coincidencias\n",
    "bibliography_items = re.findall(pattern, bbl_content, re.DOTALL)\n",
    "print(bibliography_items)\n",
    "\n",
    "# Limpiar los elementos y eliminar el \\bibitem[...]{...}\n",
    "bibliography_items = [re.sub(r\"\\\\bibitem\\{.*?\\} \", \"\", item.strip()) for item in bibliography_items]\n",
    "\n",
    "# Mostrar la lista resultante\n",
    "for index, item in enumerate(bibliography_items):\n",
    "    print(f\"Elemento {index + 1}: {item}\\n\")\n"
   ]
  },
  {
   "cell_type": "code",
   "execution_count": null,
   "id": "1e42fbf7-1770-4ee4-b050-e07611c71ad2",
   "metadata": {},
   "outputs": [],
   "source": []
  }
 ],
 "metadata": {
  "kernelspec": {
   "display_name": "Python 3 (ipykernel)",
   "language": "python",
   "name": "python3"
  },
  "language_info": {
   "codemirror_mode": {
    "name": "ipython",
    "version": 3
   },
   "file_extension": ".py",
   "mimetype": "text/x-python",
   "name": "python",
   "nbconvert_exporter": "python",
   "pygments_lexer": "ipython3",
   "version": "3.12.2"
  }
 },
 "nbformat": 4,
 "nbformat_minor": 5
}
